{
 "cells": [
  {
   "cell_type": "code",
   "execution_count": 1,
   "metadata": {},
   "outputs": [],
   "source": [
    "import numpy as np\n",
    "from hw1_utils import load_images, load_labels\n",
    "import matplotlib.pyplot as plt\n",
    "%matplotlib inline  \n",
    "\n",
    "train_X = load_images()\n",
    "train_y = load_labels()"
   ]
  },
  {
   "cell_type": "markdown",
   "metadata": {},
   "source": [
    "a) see the code below"
   ]
  },
  {
   "cell_type": "code",
   "execution_count": 2,
   "metadata": {},
   "outputs": [],
   "source": [
    "# we take out all the Xs that corresponded to a 1 or 6\n",
    "X = train_X[(train_y==1)|(train_y==6),]\n",
    "# we set 1 to be class 1 and 6 to be class 0\n",
    "y = train_y[(train_y==1)|(train_y==6)]==1\n",
    "\n",
    "# we generate a hyperplane that seperates 1 from 6, recycled from pset 1, it works\n",
    "nx = np.size(X,1)+1\n",
    "ny = np.size(X,0)\n",
    "X0 = np.hstack((X,-np.ones((ny,1))))\n",
    "X0[~y,] = -X0[~y,]\n",
    "w = np.zeros((nx))\n",
    "y_est = np.squeeze(np.matmul(X0,w))>0\n",
    "lpcnt = 0\n",
    "while sum(y_est)<ny:\n",
    "    lpcnt+=1\n",
    "    i = 0\n",
    "    while i<ny:\n",
    "        y_est[i] = np.matmul(X0[i,],w)>0\n",
    "        if y_est[i]<=0:\n",
    "            w+=X0[i,]/np.linalg.norm(X0[i,])\n",
    "        i+=1"
   ]
  },
  {
   "cell_type": "markdown",
   "metadata": {},
   "source": [
    "b) We pick a random digit and apply the equation from Question 4, except we use the preprocessed x with the -1 added at the end."
   ]
  },
  {
   "cell_type": "code",
   "execution_count": 3,
   "metadata": {},
   "outputs": [
    {
     "data": {
      "image/png": "[encoded data removed]",
      "text/plain": [
       "<matplotlib.figure.Figure at 0x2174ff2fcf8>"
      ]
     },
     "metadata": {},
     "output_type": "display_data"
    },
    {
     "name": "stdout",
     "output_type": "stream",
     "text": [
      "The norm of r is 208.11\n",
      "Compared to the norm of x which is 1616.60\n",
      "We check that w*y is indeed 0.00\n"
     ]
    }
   ],
   "source": [
    "X1 = np.hstack((X,-np.ones((ny,1))))\n",
    "x = np.squeeze(X1[np.random.randint(ny,size=1),])\n",
    "r = -np.matmul(x,w)*w/np.linalg.norm(w)**2\n",
    "y = x+r\n",
    "plt.subplot(1,3,1)\n",
    "plt.imshow(np.reshape(x[:-1],[28,28]))\n",
    "plt.axis('off')\n",
    "plt.title('Sample x')\n",
    "plt.subplot(1,3,2)\n",
    "plt.imshow(np.reshape(y[:-1],[28,28]))\n",
    "plt.axis('off')\n",
    "plt.title('Adversarial y')\n",
    "plt.subplot(1,3,3)\n",
    "plt.imshow(np.reshape(r[:-1],[28,28]))\n",
    "plt.axis('off')\n",
    "plt.title('Noise r')\n",
    "plt.show()\n",
    "print('The norm of r is {:.2f}'.format(np.linalg.norm(r[:-1])))\n",
    "print('Compared to the norm of x which is {:.2f}'.format(np.linalg.norm(x[:-1])))\n",
    "print('We check that w*y is indeed {:.2f}'.format(np.matmul(y,w)))"
   ]
  },
  {
   "cell_type": "markdown",
   "metadata": {},
   "source": [
    "c) Now we use an optimization package to search for an $r$ that miminized $L1$ norm"
   ]
  },
  {
   "cell_type": "code",
   "execution_count": 3,
   "metadata": {},
   "outputs": [],
   "source": [
    "from cvxopt import matrix"
   ]
  },
  {
   "cell_type": "code",
   "execution_count": null,
   "metadata": {},
   "outputs": [],
   "source": []
  }
 ],
 "metadata": {
  "kernelspec": {
   "display_name": "Python 3",
   "language": "python",
   "name": "python3"
  },
  "language_info": {
   "codemirror_mode": {
    "name": "ipython",
    "version": 3
   },
   "file_extension": ".py",
   "mimetype": "text/x-python",
   "name": "python",
   "nbconvert_exporter": "python",
   "pygments_lexer": "ipython3",
   "version": "3.7.1"
  }
 },
 "nbformat": 4,
 "nbformat_minor": 2
}
