{
 "cells": [
  {
   "cell_type": "markdown",
   "metadata": {},
   "source": [
    "## Problem 4"
   ]
  },
  {
   "cell_type": "code",
   "execution_count": 77,
   "metadata": {},
   "outputs": [],
   "source": [
    "import numpy as np\n",
    "from hw1_utils import load_images, load_labels\n",
    "import matplotlib.pyplot as plt\n",
    "%matplotlib inline  \n",
    "\n",
    "train_X = load_images()\n",
    "train_y = load_labels()\n",
    "\n",
    "# we take out all the Xs that corresponded to a 1 or 6\n",
    "X = train_X[(train_y==1)|(train_y==6),]\n",
    "# we set 1 to be class 1 and 6 to be class 0\n",
    "y = train_y[(train_y==1)|(train_y==6)]==1\n",
    "\n",
    "# we generate a hyperplane that seperates 1 from 6, recycled from pset 2\n",
    "nx = np.size(X,1)+1\n",
    "ny = np.size(X,0)\n",
    "X0 = np.hstack((X,-np.ones((ny,1))))\n",
    "X0[~y,] = -X0[~y,]\n",
    "w = np.zeros((nx))\n",
    "y_est = np.squeeze(np.matmul(X0,w))>0\n",
    "lpcnt = 0\n",
    "while sum(y_est)<ny:\n",
    "    lpcnt+=1\n",
    "    i = 0\n",
    "    while i<ny:\n",
    "        y_est[i] = np.matmul(X0[i,],w)>0\n",
    "        if y_est[i]<=0:\n",
    "            w+=X0[i,]/np.linalg.norm(X0[i,])\n",
    "        i+=1"
   ]
  },
  {
   "cell_type": "code",
   "execution_count": 172,
   "metadata": {},
   "outputs": [
    {
     "name": "stdout",
     "output_type": "stream",
     "text": [
      "Stopped after 265 steps\n"
     ]
    }
   ],
   "source": [
    "# now implement projected gradient descent\n",
    "X1 = np.hstack((X,-np.ones((ny,1))))\n",
    "lr = 0.1\n",
    "T = 1000; t = 0; \n",
    "x = np.zeros((nx,T+1))\n",
    "v = np.zeros((nx,T+1))\n",
    "x0 = np.squeeze(X1[-1,])\n",
    "x[:,0] = x0\n",
    "while np.matmul(x[:,t],w)<0 and t<T:\n",
    "    v[:,t+1] = x[:,t]+lr*w\n",
    "    x[:,t+1] = np.maximum(np.minimum(255*np.ones((nx)),v[:,t+1]),np.zeros((nx)))\n",
    "    t+=1\n",
    "print('Stopped after {} steps'.format(t))"
   ]
  },
  {
   "cell_type": "code",
   "execution_count": 173,
   "metadata": {},
   "outputs": [
    {
     "data": {
      "image/png": "[encoded data removed]",
      "text/plain": [
       "<Figure size 432x288 with 2 Axes>"
      ]
     },
     "metadata": {
      "needs_background": "light"
     },
     "output_type": "display_data"
    },
    {
     "name": "stdout",
     "output_type": "stream",
     "text": [
      "f_0 = -3646.56\n",
      "f_T = 0.00\n"
     ]
    }
   ],
   "source": [
    "plt.subplot(1,2,1)\n",
    "plt.imshow(np.reshape(x[:-1,0],[28,28]))\n",
    "plt.axis('off')\n",
    "plt.title(r'Sample $x_0$')\n",
    "plt.subplot(1,2,2)\n",
    "plt.imshow(np.reshape(x[:-1,t],[28,28]))\n",
    "plt.axis('off')\n",
    "plt.title(r'Adversarial $x_T$')\n",
    "plt.show()\n",
    "print(r'f_0 = {:.2f}'.format(np.matmul(x[:,0],w)))\n",
    "print(r'f_T = {:.2f}'.format(np.matmul(x[:,-1],w)))"
   ]
  },
  {
   "cell_type": "markdown",
   "metadata": {},
   "source": [
    "## Problem 5"
   ]
  },
  {
   "cell_type": "code",
   "execution_count": 195,
   "metadata": {},
   "outputs": [
    {
     "data": {
      "image/png": "[encoded data removed]",
      "text/plain": [
       "<Figure size 432x288 with 1 Axes>"
      ]
     },
     "metadata": {
      "needs_background": "light"
     },
     "output_type": "display_data"
    }
   ],
   "source": [
    "# load the banknote data into a pandas dataframe\n",
    "import pandas as pd\n",
    "fname = r'banknote.data.txt'\n",
    "bnote = pd.read_csv(fname,header=None)\n",
    "\n",
    "X = bnote.iloc[:,:-1]\n",
    "y = 2*bnote.iloc[:,-1]-1\n",
    "\n",
    "nx = np.size(X,1)+1\n",
    "ny = np.size(X,0)\n",
    "X0 = np.hstack((X,-np.ones((ny,1))))\n",
    "X0[y<0,] = -X0[y<0,]\n",
    "w = np.zeros((nx))\n",
    "tol = 1e-10\n",
    "t = 1\n",
    "i = 0\n",
    "mu = 1.001\n",
    "T = 500\n",
    "acchist = np.zeros((T))\n",
    "while ny/t>tol and i<T:\n",
    "    w+= -t\n",
    "    for j in range(ny):\n",
    "        w+= -X0[j,:].T/(np.squeeze(np.matmul(X0[j,:],w))-1)\n",
    "    y_est = np.squeeze(np.matmul(X0,w))>0\n",
    "    acchist[i] = sum(y_est)/ny\n",
    "    t*=mu\n",
    "    i+=1\n",
    "plt.plot(acchist)\n",
    "#plt.ylim((0.95,1))\n",
    "plt.xlabel('Epoch')\n",
    "plt.ylabel('Error')\n",
    "plt.show()"
   ]
  },
  {
   "cell_type": "code",
   "execution_count": null,
   "metadata": {},
   "outputs": [],
   "source": []
  }
 ],
 "metadata": {
  "kernelspec": {
   "display_name": "Python 3",
   "language": "python",
   "name": "python3"
  },
  "language_info": {
   "codemirror_mode": {
    "name": "ipython",
    "version": 3
   },
   "file_extension": ".py",
   "mimetype": "text/x-python",
   "name": "python",
   "nbconvert_exporter": "python",
   "pygments_lexer": "ipython3",
   "version": "3.7.1"
  }
 },
 "nbformat": 4,
 "nbformat_minor": 2
}
