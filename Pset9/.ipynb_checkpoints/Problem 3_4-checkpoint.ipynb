{
 "cells": [
  {
   "cell_type": "markdown",
   "metadata": {},
   "source": [
    "## Problem 3"
   ]
  },
  {
   "cell_type": "markdown",
   "metadata": {},
   "source": [
    "a) $$\\begin{align} c(s[0:i],t[0:j]) = min(&c(s[0:i-1],t[0:j])+2,\\\\\n",
    "&c(s[0:i],t[0:j-1])+2,\\\\\n",
    "&c(s[0:i-1],t[0:j-1]))+(1-\\unicode{x1D7D9}_{s[i]=t[j]}) \\end{align}$$\n",
    "\n",
    "b)Initialized a cost matrix $F$ of size $|s|+1\\times|t|+1$ :    \n",
    "set $F[0,0] = 0$, $F[i,0] = F[i-1,0] +2$  for  $i = 1...|s|$, $F[0,j] = F[0,j-1] +2$  for  $j = 1...|t|$\n",
    "\n",
    "$$ \\begin{align}\n",
    "for\\ &i = 1...|s| \\\\\n",
    "&for j = 1...|t|\\\\   \n",
    "&\\ \\ \\ F(i,j) = min(F[i-1,j]+2,F[i,j-1]+2,F[i-1,j-1]+(1-\\unicode{x1D7D9}_{s[i]=t[j]})\n",
    "\\end{align}\n",
    "$$\n",
    "    \n",
    "return $F[|s|,|t|]$\n",
    "        \n",
    "The time complexity of this algorithm is $\\mathcal{O}(|s||t|)$, or in terms of the detailed steps $|s|+|t|+1+(3+3log(3))*|s||t|$ "
   ]
  },
  {
   "cell_type": "markdown",
   "metadata": {},
   "source": [
    "## Problem 4"
   ]
  },
  {
   "cell_type": "code",
   "execution_count": 1,
   "metadata": {},
   "outputs": [],
   "source": [
    "import numpy as np\n",
    "import sys\n",
    "from tqdm import tnrange\n",
    "\n",
    "file = open('dna.txt','r') \n",
    "s = file.readline()\n",
    "s = s[:-1]\n",
    "t = file.readline()\n",
    "file.close()  "
   ]
  },
  {
   "cell_type": "code",
   "execution_count": null,
   "metadata": {},
   "outputs": [],
   "source": [
    "def cost(s,t):\n",
    "    F = np.zeros((len(s)+1,len(t)+1))\n",
    "    for i in range(1,len(s)+1):\n",
    "        F[i,0] = F[i-1,0] + 2\n",
    "\n",
    "    for j in range(1,len(t)+1):\n",
    "        F[0,j] = F[0,j-1] + 2\n",
    "                   \n",
    "    for i in range(1,len(s)+1):\n",
    "        for j in range(1,len(t)+1):\n",
    "             F[i,j] = min(F[i-1,j]+2,F[i,j-1]+2,F[i-1,j-1]+(1-int(s[i-1]==t[j-1])))\n",
    "    return F[-1,-1]"
   ]
  },
  {
   "cell_type": "code",
   "execution_count": null,
   "metadata": {},
   "outputs": [],
   "source": [
    "c_s_t = cost(s,t)"
   ]
  },
  {
   "cell_type": "code",
   "execution_count": 4,
   "metadata": {},
   "outputs": [
    {
     "data": {
      "text/plain": [
       "0.0223"
      ]
     },
     "execution_count": 4,
     "metadata": {},
     "output_type": "execute_result"
    }
   ],
   "source": [
    "c_s_t/len(s)"
   ]
  },
  {
   "cell_type": "markdown",
   "metadata": {},
   "source": [
    "These two sequences are serving the same function since they have less than 2.23% difference"
   ]
  }
 ],
 "metadata": {
  "kernelspec": {
   "display_name": "Python 3",
   "language": "python",
   "name": "python3"
  },
  "language_info": {
   "codemirror_mode": {
    "name": "ipython",
    "version": 3
   },
   "file_extension": ".py",
   "mimetype": "text/x-python",
   "name": "python",
   "nbconvert_exporter": "python",
   "pygments_lexer": "ipython3",
   "version": "3.6.4"
  }
 },
 "nbformat": 4,
 "nbformat_minor": 2
}
