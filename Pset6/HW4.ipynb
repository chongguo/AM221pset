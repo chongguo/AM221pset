{
 "cells": [
  {
   "cell_type": "code",
   "execution_count": 121,
   "metadata": {},
   "outputs": [],
   "source": [
    "import numpy as np\n",
    "import matplotlib.pyplot as plt\n",
    "\n",
    "\n",
    "# define loss function\n",
    "def f(A,x):\n",
    "    return np.matmul(np.transpose(x),np.matmul(A,x))\n",
    "# define the jacobian\n",
    "def Jf(A,x):\n",
    "    return np.matmul(np.transpose(A)+A,x)\n",
    "# define the hessian\n",
    "def Hf(A):\n",
    "    return np.transpose(A)+A\n",
    "\n",
    "# define the backtracking line search algorithm\n",
    "def backtrackingLS(x,A,f,Jf,Hf,tol,a,b):\n",
    "    step = 1\n",
    "    while f(A,x-step*Jf(A,x))>f(A,x)-a*step*np.linalg.norm(Jf(A,x))**2:\n",
    "        step *=b\n",
    "    return step\n",
    "\n",
    "# gradient descent\n",
    "def GD(x0,A,f,Jf,Hf,tol,a,b,bt):\n",
    "    x_curr = x0\n",
    "    x_prev = x0\n",
    "    tt = 0\n",
    "    T = 1e5\n",
    "    err = np.inf\n",
    "    while err>tol and tt<T:\n",
    "        tt+=1\n",
    "        if bt: # use backtracking line search\n",
    "            step = backtrackingLS(x_prev,A,f,Jf,Hf,tol,a,b)\n",
    "        else: # use newton's method\n",
    "            step = np.linalg.inv(Hf(A))\n",
    "        x_curr = x_prev-step*Jf(A,x_prev)\n",
    "        err = np.linalg.norm(f(A,x_curr))\n",
    "        x_prev = x_curr\n",
    "    return x_curr,tt\n",
    "        \n",
    "# tolerance\n",
    "tol = 1e-10\n",
    "a = 0.3\n",
    "b = 0.7\n",
    "Ld = [1,1e1,1e2,1e3,1e4]\n",
    "tt = np.zeros(len(Ld))\n",
    "\n",
    "for i,ld in enumerate(Ld):\n",
    "    A = np.matrix([[1+ld,1-ld],[1-ld,1+ld]])\n",
    "    x1,tt[i] = GD(np.matrix([[1.],[2.]]),A,f,Jf,Hf,tol,a,b,True)"
   ]
  },
  {
   "cell_type": "code",
   "execution_count": 120,
   "metadata": {},
   "outputs": [
    {
     "data": {
      "image/png": "[encoded data removed]",
      "text/plain": [
       "<matplotlib.figure.Figure at 0x1b409d19940>"
      ]
     },
     "metadata": {},
     "output_type": "display_data"
    }
   ],
   "source": [
    "plt.plot(np.log(Ld),np.log(tt))\n",
    "plt.xlabel('log(lambda)')\n",
    "plt.ylabel('log(steps)')\n",
    "plt.title('Backtracking line search')\n",
    "plt.show()"
   ]
  },
  {
   "cell_type": "markdown",
   "metadata": {},
   "source": [
    "The number of iterations increased as a function of $\\lambda$. This is due to the fact that the matrix become progressively ill conditioned which causes the backtracking algorithm to oscilate more. "
   ]
  },
  {
   "cell_type": "code",
   "execution_count": 122,
   "metadata": {},
   "outputs": [],
   "source": [
    "tt = np.zeros(len(Ld))\n",
    "\n",
    "for i,ld in enumerate(Ld):\n",
    "    A = np.matrix([[1+ld,1-ld],[1-ld,1+ld]])\n",
    "    x1,tt[i] = GD(np.matrix([[1.],[2.]]),A,f,Jf,Hf,tol,a,b,False)"
   ]
  },
  {
   "cell_type": "code",
   "execution_count": 123,
   "metadata": {},
   "outputs": [
    {
     "data": {
      "image/png": "[encoded data removed]",
      "text/plain": [
       "<matplotlib.figure.Figure at 0x1b409ad2278>"
      ]
     },
     "metadata": {},
     "output_type": "display_data"
    }
   ],
   "source": [
    "plt.plot(np.log(Ld),np.log(tt))\n",
    "plt.xlabel('log(lambda)')\n",
    "plt.ylabel('log(steps)')\n",
    "plt.title('Newtons')\n",
    "plt.show()"
   ]
  },
  {
   "cell_type": "markdown",
   "metadata": {},
   "source": [
    "A single step was sufficient using newton's method as for quadratic cost function this is exact."
   ]
  }
 ],
 "metadata": {
  "kernelspec": {
   "display_name": "Python 3",
   "language": "python",
   "name": "python3"
  },
  "language_info": {
   "codemirror_mode": {
    "name": "ipython",
    "version": 3
   },
   "file_extension": ".py",
   "mimetype": "text/x-python",
   "name": "python",
   "nbconvert_exporter": "python",
   "pygments_lexer": "ipython3",
   "version": "3.6.4"
  }
 },
 "nbformat": 4,
 "nbformat_minor": 2
}
