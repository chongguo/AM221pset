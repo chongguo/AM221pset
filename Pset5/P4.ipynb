{
 "cells": [
  {
   "cell_type": "code",
   "execution_count": 85,
   "metadata": {},
   "outputs": [
    {
     "name": "stdout",
     "output_type": "stream",
     "text": [
      "0.0004579142333557374\n",
      "5868185.276636307\n"
     ]
    }
   ],
   "source": [
    "import pandas as pd\n",
    "import numpy as np\n",
    "import matplotlib.pyplot as plt\n",
    "%matplotlib inline\n",
    "\n",
    "# load the wines data into a pandas dataframe\n",
    "fname = r'wines.csv'\n",
    "wines = pd.read_csv(fname,delimiter=';',header=0)\n",
    "# dimension of the data\n",
    "n = wines.shape[0]\n",
    "m = wines.shape[1]-1\n",
    "# augment the X and parse Y\n",
    "X = np.hstack((wines.iloc[:,:-1],np.ones((n,1))))\n",
    "Y = wines.iloc[:,-1].astype('double')\n",
    "[D,E] = np.linalg.eig(np.matmul(X.T,X))\n",
    "print(np.min(D))\n",
    "print(np.max(D))"
   ]
  },
  {
   "cell_type": "markdown",
   "metadata": {},
   "source": [
    "a) since the smallest eigenvalue of the Hessian of f(x) is positive. f(X) is strongly convex."
   ]
  },
  {
   "cell_type": "code",
   "execution_count": 39,
   "metadata": {},
   "outputs": [
    {
     "name": "stdout",
     "output_type": "stream",
     "text": [
      "[ 2.49905527e-02 -1.08359026e+00 -1.82563949e-01  1.63312697e-02\n",
      " -1.87422516e+00  4.36133331e-03 -3.26457971e-03 -1.78811638e+01\n",
      " -4.13653144e-01  9.16334413e-01  2.76197699e-01]\n",
      "21.965208451787475\n",
      "0.4167671672214075\n"
     ]
    }
   ],
   "source": [
    "d = np.matmul(np.linalg.inv(np.matmul(X.T,X)),np.matmul(X.T,Y))\n",
    "RSS = np.mean((np.matmul(X,d)-Y)**2)\n",
    "a = d[:-1]\n",
    "b = d[-1]\n",
    "print(a)\n",
    "print(b)\n",
    "print(RSS)"
   ]
  },
  {
   "cell_type": "code",
   "execution_count": 82,
   "metadata": {},
   "outputs": [
    {
     "data": {
      "image/png": "[encoded data removed]",
      "text/plain": [
       "<matplotlib.figure.Figure at 0x1907b102cc0>"
      ]
     },
     "metadata": {},
     "output_type": "display_data"
    },
    {
     "name": "stdout",
     "output_type": "stream",
     "text": [
      "[ 0.21181696  0.01174194  0.0067384   0.04607644  0.00209985  0.01481006\n",
      " -0.00366767  0.02826171  0.09545972  0.02027473  0.3140575 ]\n",
      "0.028399139080661873\n",
      "0.5535107639358509\n"
     ]
    }
   ],
   "source": [
    "alpha = 5e-4\n",
    "T = 200\n",
    "w = np.zeros((m+1,T))\n",
    "RSS = np.zeros(T)\n",
    "RSS[0] = np.mean((np.matmul(X,w[:,0])-Y)**2)\n",
    "for t in range(T-1):\n",
    "    dw = -alpha*np.matmul(X.T,np.matmul(X,w[:,t])-Y)/n\n",
    "    w[:,t+1] = w[:,t] + dw\n",
    "    RSS[t+1] = np.mean((np.matmul(X,w[:,t+1])-Y)**2)\n",
    "plt.plot(RSS)\n",
    "plt.show()\n",
    "a = w[:-1,-1]\n",
    "b = w[-1,-1]\n",
    "print(a)\n",
    "print(b)\n",
    "print(RSS[-1])"
   ]
  },
  {
   "cell_type": "markdown",
   "metadata": {},
   "source": [
    "The RSS of the GD was similar to the direct solution with the right initialization. However, the solution was different using a random initializations.\n",
    "\n",
    "d) GD has a convergence rate constant upper bound of approx 1e10, which is a worst case that does not at all reflect the experimental result. GD had the benefit of not needing to invert the covariance matrix, and being amenable to online training (SGD). However the direct optimization found a better solution in one go."
   ]
  },
  {
   "cell_type": "code",
   "execution_count": 87,
   "metadata": {},
   "outputs": [
    {
     "data": {
      "text/plain": [
       "12815031394.92395"
      ]
     },
     "execution_count": 87,
     "metadata": {},
     "output_type": "execute_result"
    }
   ],
   "source": [
    "np.max(D)/np.min(D)"
   ]
  }
 ],
 "metadata": {
  "kernelspec": {
   "display_name": "Python 3",
   "language": "python",
   "name": "python3"
  },
  "language_info": {
   "codemirror_mode": {
    "name": "ipython",
    "version": 3
   },
   "file_extension": ".py",
   "mimetype": "text/x-python",
   "name": "python",
   "nbconvert_exporter": "python",
   "pygments_lexer": "ipython3",
   "version": "3.6.4"
  }
 },
 "nbformat": 4,
 "nbformat_minor": 2
}
