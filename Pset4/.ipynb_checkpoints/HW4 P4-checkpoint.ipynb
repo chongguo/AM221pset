{
 "cells": [
  {
   "cell_type": "code",
   "execution_count": 261,
   "metadata": {},
   "outputs": [
    {
     "data": {
      "text/html": [
       "<div>\n",
       "<style scoped>\n",
       "    .dataframe tbody tr th:only-of-type {\n",
       "        vertical-align: middle;\n",
       "    }\n",
       "\n",
       "    .dataframe tbody tr th {\n",
       "        vertical-align: top;\n",
       "    }\n",
       "\n",
       "    .dataframe thead th {\n",
       "        text-align: right;\n",
       "    }\n",
       "</style>\n",
       "<table border=\"1\" class=\"dataframe\">\n",
       "  <thead>\n",
       "    <tr style=\"text-align: right;\">\n",
       "      <th></th>\n",
       "      <th>fixed acidity</th>\n",
       "      <th>volatile acidity</th>\n",
       "      <th>citric acid</th>\n",
       "      <th>residual sugar</th>\n",
       "      <th>chlorides</th>\n",
       "      <th>free sulfur dioxide</th>\n",
       "      <th>total sulfur dioxide</th>\n",
       "      <th>density</th>\n",
       "      <th>pH</th>\n",
       "      <th>sulphates</th>\n",
       "      <th>alcohol</th>\n",
       "      <th>quality</th>\n",
       "    </tr>\n",
       "  </thead>\n",
       "  <tbody>\n",
       "    <tr>\n",
       "      <th>0</th>\n",
       "      <td>7.4</td>\n",
       "      <td>0.70</td>\n",
       "      <td>0.00</td>\n",
       "      <td>1.9</td>\n",
       "      <td>0.076</td>\n",
       "      <td>11.0</td>\n",
       "      <td>34.0</td>\n",
       "      <td>0.9978</td>\n",
       "      <td>3.51</td>\n",
       "      <td>0.56</td>\n",
       "      <td>9.4</td>\n",
       "      <td>5</td>\n",
       "    </tr>\n",
       "    <tr>\n",
       "      <th>1</th>\n",
       "      <td>7.8</td>\n",
       "      <td>0.88</td>\n",
       "      <td>0.00</td>\n",
       "      <td>2.6</td>\n",
       "      <td>0.098</td>\n",
       "      <td>25.0</td>\n",
       "      <td>67.0</td>\n",
       "      <td>0.9968</td>\n",
       "      <td>3.20</td>\n",
       "      <td>0.68</td>\n",
       "      <td>9.8</td>\n",
       "      <td>5</td>\n",
       "    </tr>\n",
       "    <tr>\n",
       "      <th>2</th>\n",
       "      <td>7.8</td>\n",
       "      <td>0.76</td>\n",
       "      <td>0.04</td>\n",
       "      <td>2.3</td>\n",
       "      <td>0.092</td>\n",
       "      <td>15.0</td>\n",
       "      <td>54.0</td>\n",
       "      <td>0.9970</td>\n",
       "      <td>3.26</td>\n",
       "      <td>0.65</td>\n",
       "      <td>9.8</td>\n",
       "      <td>5</td>\n",
       "    </tr>\n",
       "    <tr>\n",
       "      <th>3</th>\n",
       "      <td>11.2</td>\n",
       "      <td>0.28</td>\n",
       "      <td>0.56</td>\n",
       "      <td>1.9</td>\n",
       "      <td>0.075</td>\n",
       "      <td>17.0</td>\n",
       "      <td>60.0</td>\n",
       "      <td>0.9980</td>\n",
       "      <td>3.16</td>\n",
       "      <td>0.58</td>\n",
       "      <td>9.8</td>\n",
       "      <td>6</td>\n",
       "    </tr>\n",
       "    <tr>\n",
       "      <th>4</th>\n",
       "      <td>7.4</td>\n",
       "      <td>0.70</td>\n",
       "      <td>0.00</td>\n",
       "      <td>1.9</td>\n",
       "      <td>0.076</td>\n",
       "      <td>11.0</td>\n",
       "      <td>34.0</td>\n",
       "      <td>0.9978</td>\n",
       "      <td>3.51</td>\n",
       "      <td>0.56</td>\n",
       "      <td>9.4</td>\n",
       "      <td>5</td>\n",
       "    </tr>\n",
       "  </tbody>\n",
       "</table>\n",
       "</div>"
      ],
      "text/plain": [
       "   fixed acidity  volatile acidity  citric acid  residual sugar  chlorides  \\\n",
       "0            7.4              0.70         0.00             1.9      0.076   \n",
       "1            7.8              0.88         0.00             2.6      0.098   \n",
       "2            7.8              0.76         0.04             2.3      0.092   \n",
       "3           11.2              0.28         0.56             1.9      0.075   \n",
       "4            7.4              0.70         0.00             1.9      0.076   \n",
       "\n",
       "   free sulfur dioxide  total sulfur dioxide  density    pH  sulphates  \\\n",
       "0                 11.0                  34.0   0.9978  3.51       0.56   \n",
       "1                 25.0                  67.0   0.9968  3.20       0.68   \n",
       "2                 15.0                  54.0   0.9970  3.26       0.65   \n",
       "3                 17.0                  60.0   0.9980  3.16       0.58   \n",
       "4                 11.0                  34.0   0.9978  3.51       0.56   \n",
       "\n",
       "   alcohol  quality  \n",
       "0      9.4        5  \n",
       "1      9.8        5  \n",
       "2      9.8        5  \n",
       "3      9.8        6  \n",
       "4      9.4        5  "
      ]
     },
     "execution_count": 261,
     "metadata": {},
     "output_type": "execute_result"
    }
   ],
   "source": [
    "import pandas as pd\n",
    "import numpy as np\n",
    "import matplotlib.pyplot as plt\n",
    "from cvxopt import matrix, solvers\n",
    "%matplotlib inline\n",
    "\n",
    "# load the wines data into a pandas dataframe\n",
    "fname = r'wines.csv'\n",
    "wines = pd.read_csv(fname,delimiter=';',header=0)\n",
    "wines.head()"
   ]
  },
  {
   "cell_type": "code",
   "execution_count": 281,
   "metadata": {},
   "outputs": [
    {
     "name": "stdout",
     "output_type": "stream",
     "text": [
      "     pcost       dcost       gap    pres   dres   k/t\n",
      " 0:  0.0000e+00  6.9562e-16  4e+00  8e-01  8e-15  1e+00\n",
      " 1:  2.7051e-01  1.4091e-01  1e+00  2e-01  5e-15  9e-02\n",
      " 2:  4.0476e-01  3.6896e-01  2e-01  4e-02  7e-13  1e-02\n",
      " 3:  4.6439e-01  4.5069e-01  8e-02  1e-02  4e-12  4e-03\n",
      " 4:  4.8118e-01  4.7506e-01  3e-02  6e-03  2e-11  1e-03\n",
      " 5:  4.8776e-01  4.8474e-01  2e-02  3e-03  5e-12  4e-04\n",
      " 6:  4.9221e-01  4.9144e-01  4e-03  7e-04  1e-11  8e-05\n",
      " 7:  4.9331e-01  4.9310e-01  1e-03  2e-04  3e-12  1e-05\n",
      " 8:  4.9357e-01  4.9349e-01  4e-04  7e-05  3e-11  4e-06\n",
      " 9:  4.9369e-01  4.9367e-01  1e-04  2e-05  2e-11  9e-08\n",
      "10:  4.9374e-01  4.9373e-01  3e-05  5e-06  3e-11  2e-08\n",
      "11:  4.9375e-01  4.9375e-01  1e-06  2e-07  8e-12  7e-10\n",
      "12:  4.9375e-01  4.9375e-01  1e-08  2e-09  3e-11  7e-12\n",
      "Optimal solution found.\n"
     ]
    }
   ],
   "source": [
    "# dimension of the data\n",
    "n = wines.shape[0]\n",
    "m = wines.shape[1]-1\n",
    "# augment the X and parse Y\n",
    "min_max_scaler = preprocessing.MinMaxScaler()\n",
    "X = np.hstack((wines.iloc[:,:-1],np.ones((n,1))))\n",
    "Y = wines.iloc[:,-1].astype('double')\n",
    "# c is (m+1+n)\n",
    "# setting the coefficients in c corresponding to a_j and b to zeros and average the z's\n",
    "c = matrix(np.hstack([np.zeros(m+1),np.ones(n)/n]))\n",
    "# A is 2n by (m+1+n)\n",
    "XX = np.vstack([-X,X])\n",
    "I = np.vstack([-np.eye(n),-np.eye(n)])\n",
    "A = np.hstack([XX,I])\n",
    "# we need to format this for the solver to include the constraints on z's\n",
    "G = matrix(np.vstack([A,np.hstack([np.zeros((n,m+1)),-np.eye(n)])]))\n",
    "# b is 2n\n",
    "b = np.hstack([-Y,Y])\n",
    "# again we format the b to include constraints on the z's\n",
    "h = matrix(np.hstack([b,np.zeros(n)]))\n",
    "# pass the matrices to the solver\n",
    "sol = solvers.lp(c, G, h,solver='splk')"
   ]
  },
  {
   "cell_type": "code",
   "execution_count": 283,
   "metadata": {},
   "outputs": [
    {
     "data": {
      "image/png": "[encoded data removed]",
      "text/plain": [
       "<matplotlib.figure.Figure at 0x1c7813802e8>"
      ]
     },
     "metadata": {},
     "output_type": "display_data"
    }
   ],
   "source": [
    "d = np.asarray(sol['x'][:12])\n",
    "plt.plot(X.dot(d),Y,'.')\n",
    "plt.plot([3,9],[3,9],'k--')\n",
    "plt.xlabel('predicted quality')\n",
    "plt.ylabel('real qualtiy')\n",
    "plt.show()"
   ]
  },
  {
   "cell_type": "code",
   "execution_count": 287,
   "metadata": {},
   "outputs": [
    {
     "data": {
      "text/plain": [
       "0.4937487285454359"
      ]
     },
     "execution_count": 287,
     "metadata": {},
     "output_type": "execute_result"
    }
   ],
   "source": [
    "print('The average L1 loss is:')\n",
    "sol['primal objective']"
   ]
  }
 ],
 "metadata": {
  "kernelspec": {
   "display_name": "Python 3",
   "language": "python",
   "name": "python3"
  },
  "language_info": {
   "codemirror_mode": {
    "name": "ipython",
    "version": 3
   },
   "file_extension": ".py",
   "mimetype": "text/x-python",
   "name": "python",
   "nbconvert_exporter": "python",
   "pygments_lexer": "ipython3",
   "version": "3.6.4"
  }
 },
 "nbformat": 4,
 "nbformat_minor": 2
}
