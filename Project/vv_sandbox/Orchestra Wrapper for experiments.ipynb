{
 "cells": [
  {
   "cell_type": "markdown",
   "metadata": {},
   "source": [
    "# Orchestra wrapper for NN experiments\n",
    "This orchestra wrapper:\n",
    "* Takes model parameters as input\n",
    "* Takes a dataset as input (in this case, the MNIST dataset is default"
   ]
  },
  {
   "cell_type": "code",
   "execution_count": null,
   "metadata": {},
   "outputs": [],
   "source": [
    "# pseudocode for main\n",
    "def main ():\n",
    "    return()"
   ]
  },
  {
   "cell_type": "code",
   "execution_count": null,
   "metadata": {},
   "outputs": [],
   "source": [
    "import os,sys,re\n",
    "from tqdm import tnrange\n",
    "import torch\n",
    "import torch.nn as nn\n",
    "import torch.nn.functional as F\n",
    "import torchvision\n",
    "import torchvision.transforms as transforms\n",
    "from torch.autograd import Variable\n",
    "import matplotlib.pyplot as plt\n",
    "import numpy as np\n",
    "import gc\n",
    "import os\n",
    "%matplotlib inline  \n",
    "\n",
    "device = torch.device(\"cuda:0\" if torch.cuda.is_available() else \"cpu\")\n",
    "print(device)"
   ]
  },
  {
   "cell_type": "code",
   "execution_count": null,
   "metadata": {},
   "outputs": [],
   "source": [
    "def input_params ():\n",
    "    trainloader,testloader,BATCH_SIZE = load_mnist()\n",
    "    infa = sys.argv[1:] # infasta\n",
    "    \n",
    "    # parameters \n",
    "    N_STEPS = 28\n",
    "    N_INPUTS = 28\n",
    "    N_HIDDEN = 112\n",
    "    N_OUTPUTS = 10\n",
    "    N_EPHOCS = 11\n",
    "    N_REPS = 15\n",
    "    N_PARAMS = nparam(N_INPUTS,N_HIDDEN,N_OUTPUTS)\n",
    "\n",
    "    lambdas = np.arange(0,5.5,0.5,dtype=np.float)\n",
    "    N_LAMBDA = len(lambdas)\n",
    "    gidx = int(N_HIDDEN/2)"
   ]
  },
  {
   "cell_type": "code",
   "execution_count": null,
   "metadata": {},
   "outputs": [],
   "source": [
    "def load_mnist ():\n",
    "    BATCH_SIZE = 1000\n",
    "\n",
    "    # list all transformations\n",
    "    transform = transforms.Compose(\n",
    "        [transforms.ToTensor(),\n",
    "         transforms.Normalize((0.1307,), (0.3081,))])\n",
    "\n",
    "    # download and load training dataset\n",
    "    trainset = torchvision.datasets.MNIST(root='./data', train=True,\n",
    "                                            download=True, transform=transform)\n",
    "    trainloader = torch.utils.data.DataLoader(trainset, batch_size=BATCH_SIZE,\n",
    "                                              shuffle=True, num_workers=4)\n",
    "\n",
    "    # download and load testing dataset\n",
    "    testset = torchvision.datasets.MNIST(root='./data', train=False,\n",
    "                                           download=True, transform=transform)\n",
    "    testloader = torch.utils.data.DataLoader(testset, batch_size=BATCH_SIZE,\n",
    "                                             shuffle=False, num_workers=4)\n",
    "    \n",
    "    return(trainloader,testloader,BATCH_SIZE)"
   ]
  },
  {
   "cell_type": "code",
   "execution_count": null,
   "metadata": {},
   "outputs": [],
   "source": [
    "def run_model ():\n",
    "    return()"
   ]
  }
 ],
 "metadata": {
  "kernelspec": {
   "display_name": "Python 3",
   "language": "python",
   "name": "python3"
  },
  "language_info": {
   "codemirror_mode": {
    "name": "ipython",
    "version": 3
   },
   "file_extension": ".py",
   "mimetype": "text/x-python",
   "name": "python",
   "nbconvert_exporter": "python",
   "pygments_lexer": "ipython3",
   "version": "3.7.2"
  }
 },
 "nbformat": 4,
 "nbformat_minor": 2
}
