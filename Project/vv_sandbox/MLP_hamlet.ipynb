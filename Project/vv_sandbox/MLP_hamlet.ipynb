{
 "cells": [
  {
   "cell_type": "markdown",
   "metadata": {
    "colab_type": "text",
    "id": "L3QUcVx4z4Yd"
   },
   "source": [
    "# Introduction\n",
    "This notebook will test the performance of a 2-layer MLP (multi-layer perceptron) in performing a character-wise prediction task on \n",
    "* MNIST\n",
    "* the play *Hamlet*. "
   ]
  },
  {
   "cell_type": "code",
   "execution_count": 32,
   "metadata": {
    "colab": {
     "base_uri": "https://localhost:8080/",
     "height": 34
    },
    "colab_type": "code",
    "id": "l5jJ291f9H2t",
    "outputId": "b1dcaf32-0433-4422-99a1-310a6a475487"
   },
   "outputs": [
    {
     "name": "stdout",
     "output_type": "stream",
     "text": [
      "cpu\n"
     ]
    }
   ],
   "source": [
    "# imports\n",
    "from tqdm import tnrange\n",
    "import torch\n",
    "import torch.nn as nn\n",
    "import torch.nn.functional as F\n",
    "import torchvision\n",
    "import torchvision.transforms as transforms\n",
    "from torch.autograd import Variable\n",
    "import matplotlib.pyplot as plt\n",
    "import numpy as np\n",
    "import gc\n",
    "import os\n",
    "%matplotlib inline  \n",
    "\n",
    "# alphabet\n",
    "import string\n",
    "\n",
    "device = torch.device(\"cuda:0\" if torch.cuda.is_available() else \"cpu\")\n",
    "print(device)"
   ]
  },
  {
   "cell_type": "markdown",
   "metadata": {
    "colab_type": "text",
    "id": "xuaNMQ011CNj"
   },
   "source": [
    "# MLP code"
   ]
  },
  {
   "cell_type": "markdown",
   "metadata": {
    "colab_type": "text",
    "id": "hN9Ss_xO20Eo"
   },
   "source": [
    "## Data preparation"
   ]
  },
  {
   "cell_type": "code",
   "execution_count": 2,
   "metadata": {
    "colab": {},
    "colab_type": "code",
    "id": "smKbyWrLz2NB"
   },
   "outputs": [],
   "source": [
    "def get_accuracy(logit, target):\n",
    "    batch_size = len(target)\n",
    "    corrects = (torch.max(logit, 1)[1].view(target.size()).data == target.data).sum()\n",
    "    accuracy = 100.0 * corrects/batch_size\n",
    "    return accuracy.item()\n",
    "\n",
    "def nparam(ninputs,nhidden,noutputs):\n",
    "    return ninputs*(nhidden+1) + nhidden*(nhidden+1)+nhidden*(noutputs+1)\n",
    "\n",
    "def nparam(ninputs,nhidden,noutputs):\n",
    "    return ninputs*(nhidden+1) + nhidden*(nhidden+1)+ nhidden*(noutputs+1)\n"
   ]
  },
  {
   "cell_type": "markdown",
   "metadata": {
    "colab_type": "text",
    "id": "4G-YeFOa22ap"
   },
   "source": [
    "## Model"
   ]
  },
  {
   "cell_type": "code",
   "execution_count": 37,
   "metadata": {
    "colab": {},
    "colab_type": "code",
    "id": "myxC_JCB24BI"
   },
   "outputs": [],
   "source": [
    "# a prototype MLP\n",
    "class MLP(nn.Module):\n",
    "    def __init__(self, n_inputs, n_hidden_neurons, n_output,  device):\n",
    "        super(MLP, self).__init__()\n",
    "        self.n_inputs = n_inputs # set the number of neurons in the input layer\n",
    "        self.n_hidden_neurons = n_hidden_neurons # how many neurons are in each hidden layer\n",
    "        #self.n_hidden_layers = n_hidden_layers # how many hidden layers are we using in our model\n",
    "        self.n_output = n_output # set the number of neurons in the output layer\n",
    "        self.dt = nn.Parameter(torch.Tensor([1])) # set the change in parameter update\n",
    "        self.a = nn.Parameter(torch.Tensor([1])) # set the bias\n",
    "        self.sig = nn.Sigmoid() # set the activation function \n",
    "        self.n_hidden = n_hidden_neurons\n",
    "        self.decoder = nn.Linear(n_hidden_neurons, n_output) # decode output\n",
    "        self.recurrent = nn.Linear(n_hidden_neurons,n_hidden_neurons)\n",
    "        self.encoder = nn.Linear(n_inputs, n_hidden_neurons) # encode input\n",
    "        \n",
    "    # the main operation for the MLP is to update each hidden layer with the state of the previous hidden layer\n",
    "    # so, if you need to update the hidden layers, make sure you update each layer with state of the previous layer\n",
    "    \n",
    "#     def update_hidden_layer(self):\n",
    "#         # update the neurons in the current hidden layer with the state of the inputted \"previous\" layer\n",
    "#         for i in range(1,self.n_hidden_layers):\n",
    "#             # update each node in the h1_current\n",
    "#             self.h1 = self.hidden\n",
    "# #             self.hidden = nn.Linear(self.h1,self.hidden) # update the stored hidden layer state as many times as there are hidden layers specified # BUG\n",
    "#             # the nn.Linear should take in the shape...\n",
    "#             self.hidden = nn.Linear(self.n_hidden_neurons,self.n_hidden_neurons) \n",
    "#         self.h1 = self.hidden\n",
    "#         return(self.h1)\n",
    "    \n",
    "    def forward(self, x0):\n",
    "        #x0=x0.permute(1,0,2) # permute the tensor\n",
    "        # save the hidden layers as a tensor\n",
    "        \n",
    "        # initialize self.h1\n",
    "        self.hidden1 = self.sig(self.encoder(x0))#torch.zeros(self.n_hidden_layers,BATCH_SIZE,self.n_hidden).to(device) # initialize the hidden layer\n",
    "        self.hidden2 = self.sig(self.recurrent(self.hidden1))\n",
    "        self.output = self.decoder(self.hidden2)\n",
    "        \n",
    "        \n",
    "#         # set the hidden layer value\n",
    "#         for i in range(x0.size(0)):\n",
    "#             self.hidden[0,:,:] = self.sig(self.dt)*self.a*torch.tanh(self.encoder(x0[i,:,:]))\n",
    "        \n",
    "#         self.hidden = torch.zeros(self.n_hidden_layers,BATCH_SIZE,self.n_hidden).to(device) # initialize the hidden layer\n",
    "        # the first layer will consist of the encoded inputs\n",
    "#         for i in range(x0.size(0)):\n",
    "#             self.hlayers[0,:,:] = self.sig(self.dt)*self.a*torch.tanh(self.encoder(x0[i,:,:])) # (1-self.sig(self.dt))*self.h1+self.sig(self.dt)*self.a*torch.tanh(self.encoder(x0[i,:,:])+self.recurrent(self.h1))\n",
    "#         # update the additional hidden layers\n",
    "        #self.hidden = self.update_hidden_layer()\n",
    "\n",
    "        #self.y1 = self.decoder(self.n_hidden_neurons,self.n_output)\n",
    "        return self.output"
   ]
  },
  {
   "cell_type": "markdown",
   "metadata": {
    "colab_type": "text",
    "id": "pLXkw4RVq4jw"
   },
   "source": [
    "# Load data"
   ]
  },
  {
   "cell_type": "code",
   "execution_count": 38,
   "metadata": {
    "colab": {
     "base_uri": "https://localhost:8080/",
     "height": 275
    },
    "colab_type": "code",
    "id": "lw_mPYUqEcFE",
    "outputId": "5b1af598-65f2-42b9-8e1d-82c251bc6d66"
   },
   "outputs": [],
   "source": [
    "# MNIST\n",
    "\n",
    "BATCH_SIZE = 100\n",
    "\n",
    "# list all transformations\n",
    "transform = transforms.Compose(\n",
    "    [transforms.ToTensor(),\n",
    "     transforms.Normalize((0.1307,), (0.3081,))])\n",
    "\n",
    "# download and load training dataset\n",
    "trainset = torchvision.datasets.MNIST(root='./data', train=True,\n",
    "                                        download=True, transform=transform)\n",
    "trainloader = torch.utils.data.DataLoader(trainset, batch_size=BATCH_SIZE,\n",
    "                                          shuffle=True, num_workers=2)\n",
    "\n",
    "# download and load testing dataset\n",
    "testset = torchvision.datasets.MNIST(root='./data', train=False,\n",
    "                                       download=True, transform=transform)\n",
    "testloader = torch.utils.data.DataLoader(testset, batch_size=BATCH_SIZE,\n",
    "                                         shuffle=False, num_workers=2)"
   ]
  },
  {
   "cell_type": "markdown",
   "metadata": {},
   "source": [
    "# Train on MNIST"
   ]
  },
  {
   "cell_type": "code",
   "execution_count": 53,
   "metadata": {
    "colab": {},
    "colab_type": "code",
    "id": "tS0JlvNs9HFA"
   },
   "outputs": [
    {
     "name": "stdout",
     "output_type": "stream",
     "text": [
      "Epoch:  0 | Loss: 286.1397 | Train Accuracy: 85.11\n",
      "Epoch:  1 | Loss: 83.2102 | Train Accuracy: 96.04\n",
      "Epoch:  2 | Loss: 57.3114 | Train Accuracy: 97.32\n",
      "Epoch:  3 | Loss: 43.6119 | Train Accuracy: 97.97\n",
      "Epoch:  4 | Loss: 34.4946 | Train Accuracy: 98.40\n",
      "Epoch:  5 | Loss: 27.4446 | Train Accuracy: 98.76\n",
      "Epoch:  6 | Loss: 22.0844 | Train Accuracy: 99.01\n",
      "Epoch:  7 | Loss: 16.5204 | Train Accuracy: 99.36\n",
      "Epoch:  8 | Loss: 13.3614 | Train Accuracy: 99.59\n",
      "Epoch:  9 | Loss: 11.0588 | Train Accuracy: 99.66\n"
     ]
    }
   ],
   "source": [
    "# training on MNIST\n",
    "# parameters \n",
    "N_INPUTS = 784\n",
    "N_HIDDEN_NEURONS = 100\n",
    "N_OUTPUTS = 10\n",
    "N_EPHOCS = 10\n",
    "\n",
    "model = MLP(N_INPUTS,N_HIDDEN_NEURONS,N_OUTPUTS,device)\n",
    "\n",
    "optimizer = torch.optim.SGD(model.parameters(), lr=1e-1, momentum=0.9)\n",
    "criterion = nn.CrossEntropyLoss()\n",
    "\n",
    "train_running_loss = np.zeros(N_EPHOCS)\n",
    "train_acc = np.zeros(N_EPHOCS)\n",
    "nparams = 0\n",
    "for param in model.parameters(): \n",
    "    if param.requires_grad:\n",
    "        nparams += param.data.numpy().size\n",
    "Phist = np.zeros((nparams,N_EPHOCS))\n",
    "\n",
    "for epoch in range(N_EPHOCS):\n",
    "    nps = 0\n",
    "    running_loss=0\n",
    "    running_acc=0\n",
    "    for p,param in enumerate(model.parameters()):\n",
    "        if param.requires_grad:\n",
    "            plist = param.data.numpy().flatten()\n",
    "            for j in range(plist.size):\n",
    "                Phist[nps,epoch]=plist[j]\n",
    "                nps+=1\n",
    "  \n",
    "    for i, data in enumerate(trainloader):\n",
    "        \n",
    "        optimizer.zero_grad()\n",
    "        x, y_tar = data\n",
    "        y_pred = model(x.view(BATCH_SIZE,N_INPUTS))\n",
    "        loss = criterion(y_pred.view(BATCH_SIZE,N_OUTPUTS),y_tar)\n",
    "                \n",
    "        loss.backward()\n",
    "        optimizer.step()\n",
    "        running_loss+=loss.item()\n",
    "        running_acc+=get_accuracy(y_pred.view(BATCH_SIZE,N_OUTPUTS), y_tar)\n",
    "    train_running_loss[epoch] = running_loss\n",
    "    train_acc[epoch] = running_acc/i\n",
    "    \n",
    "    print('Epoch:  %d | Loss: %.4f | Train Accuracy: %.2f' %(epoch, train_running_loss[epoch], train_acc[epoch]))"
   ]
  },
  {
   "cell_type": "code",
   "execution_count": 54,
   "metadata": {},
   "outputs": [
    {
     "data": {
      "text/plain": [
       "tensor([7, 6, 4, 1, 3, 3, 2, 9, 9, 0, 1, 4, 3, 9, 5, 8, 9, 8, 2, 5, 3, 4, 6, 6,\n",
       "        7, 6, 7, 4, 4, 5, 5, 9, 0, 6, 7, 1, 2, 9, 5, 7, 4, 1, 4, 2, 4, 8, 6, 8,\n",
       "        7, 7, 7, 2, 9, 0, 0, 4, 8, 4, 9, 9, 2, 7, 6, 4, 3, 2, 8, 1, 3, 7, 9, 0,\n",
       "        1, 3, 0, 9, 4, 8, 8, 6, 8, 8, 3, 3, 8, 6, 1, 7, 8, 3, 8, 3, 0, 5, 0, 6,\n",
       "        8, 3, 6, 5])"
      ]
     },
     "execution_count": 54,
     "metadata": {},
     "output_type": "execute_result"
    }
   ],
   "source": [
    "torch.max(y_pred,1)[1]"
   ]
  },
  {
   "cell_type": "code",
   "execution_count": 55,
   "metadata": {},
   "outputs": [
    {
     "data": {
      "text/plain": [
       "tensor([5, 9, 5, 8, 0, 8, 4, 8, 6, 1, 5, 6, 8, 1, 2, 3, 0, 1, 9, 4, 3, 0, 4, 5,\n",
       "        3, 4, 1, 1, 8, 1, 8, 3, 3, 3, 2, 0, 2, 0, 5, 9, 4, 8, 3, 0, 5, 9, 8, 9,\n",
       "        2, 4, 4, 6, 7, 2, 5, 3, 4, 3, 1, 6, 3, 3, 4, 3, 4, 9, 2, 0, 8, 2, 8, 6,\n",
       "        4, 8, 5, 5, 6, 0, 0, 1, 8, 1, 7, 6, 9, 8, 6, 6, 6, 6, 6, 3, 5, 5, 1, 9,\n",
       "        6, 1, 7, 2])"
      ]
     },
     "execution_count": 55,
     "metadata": {},
     "output_type": "execute_result"
    }
   ],
   "source": [
    "y"
   ]
  },
  {
   "cell_type": "markdown",
   "metadata": {},
   "source": [
    "## MLP with regularization"
   ]
  },
  {
   "cell_type": "code",
   "execution_count": 96,
   "metadata": {},
   "outputs": [],
   "source": [
    "# parameters \n",
    "N_INPUTS = 784\n",
    "N_HIDDEN_NEURONS = 100\n",
    "N_OUTPUTS = 10\n",
    "N_EPHOCS = 5\n",
    "N_REPS = 2\n",
    "N_PARAMS = nparam(N_INPUTS,N_HIDDEN_NEURONS,N_OUTPUTS)\n",
    "\n",
    "# regularization parameters\n",
    "lambdas = np.arange(0,1e-2,3e-3,dtype=np.float)\n",
    "N_LAMBDA = len(lambdas)\n",
    "gidx = int(N_HIDDEN_NEURONS/2)"
   ]
  },
  {
   "cell_type": "code",
   "execution_count": 97,
   "metadata": {},
   "outputs": [
    {
     "data": {
      "application/vnd.jupyter.widget-view+json": {
       "model_id": "4819c79847684bffbf1df7b22fa6600c",
       "version_major": 2,
       "version_minor": 0
      },
      "text/plain": [
       "HBox(children=(IntProgress(value=0, max=2), HTML(value='')))"
      ]
     },
     "metadata": {},
     "output_type": "display_data"
    },
    {
     "data": {
      "application/vnd.jupyter.widget-view+json": {
       "model_id": "e6bcb87acaf64275af24f6cec569dd75",
       "version_major": 2,
       "version_minor": 0
      },
      "text/plain": [
       "HBox(children=(IntProgress(value=0, max=4), HTML(value='')))"
      ]
     },
     "metadata": {},
     "output_type": "display_data"
    },
    {
     "data": {
      "application/vnd.jupyter.widget-view+json": {
       "model_id": "e02f2cccb27848eaaf0e99acca9338a7",
       "version_major": 2,
       "version_minor": 0
      },
      "text/plain": [
       "HBox(children=(IntProgress(value=0, max=4), HTML(value='')))"
      ]
     },
     "metadata": {},
     "output_type": "display_data"
    }
   ],
   "source": [
    "# regularizing digonal blocks of the partitioned RNN\n",
    "train_loss_P = np.zeros((N_EPHOCS,N_LAMBDA,N_REPS))\n",
    "train_acc_P = np.zeros((N_EPHOCS,N_LAMBDA,N_REPS))\n",
    "test_loss_P = np.zeros((N_EPHOCS,N_LAMBDA,N_REPS))\n",
    "test_acc_P = np.zeros((N_EPHOCS,N_LAMBDA,N_REPS))\n",
    "Phist_P = np.zeros((N_PARAMS,N_EPHOCS,N_LAMBDA,N_REPS))\n",
    "\n",
    "model_P = [None]*N_LAMBDA*N_REPS\n",
    "regval_P = []\n",
    "for r in tnrange(N_REPS):\n",
    "    for k in tnrange(N_LAMBDA):\n",
    "        reg_lambda = lambdas[k]\n",
    "        # model_path = 'D:\\chongguo\\git\\AM221pset\\Project\\Final Project\\History\\Lamb\\model_P_rep_{}_lambda_{:d}_10.pt'.format(r,int(reg_lambda*10))\n",
    "        model_path = '/Users/vinayakvsv/am221/AM221pset/Project/vv_sandbox/mlp_experiments/model_P_rep_{}_lambda_{:d}_10.pt'.format(r,int(reg_lambda*10))\n",
    "        # model_P[k+r*N_LAMBDA] = PRNN(N_INPUTS,N_HIDDEN,N_OUTPUTS,1,device).to(device)\n",
    "        model_P[k+r*N_LAMBDA] = MLP(N_INPUTS,N_HIDDEN_NEURONS,N_OUTPUTS,device)\n",
    "        l2_reg = torch.Tensor(1,device=device)\n",
    "        optimizer = torch.optim.SGD(model_P[k+r*N_LAMBDA].parameters(), lr=1e-2, momentum=0.9)\n",
    "        criterion = nn.CrossEntropyLoss()\n",
    "        \n",
    "        for epoch in range(N_EPHOCS):\n",
    "            nps = 0\n",
    "            running_train_loss=0\n",
    "            running_train_acc=0\n",
    "            model_P[k+r*N_LAMBDA].train()\n",
    "            for p, param in enumerate(model_P[k+r*N_LAMBDA].parameters()):\n",
    "                if param.requires_grad:\n",
    "                    plist = torch.flatten(param.data)\n",
    "                    for j in range(plist.size(0)):\n",
    "                        Phist_P[nps,epoch,k,r]=plist[j].item()\n",
    "                        nps+=1\n",
    "\n",
    "            for i, (x, y_tar) in enumerate(trainloader):\n",
    "                l2_reg = 0\n",
    "                x, y_tar = x.to(device), y_tar.to(device)\n",
    "                optimizer.zero_grad()\n",
    "                y_pred = model_P[k+r*N_LAMBDA](x.view(BATCH_SIZE,N_INPUTS))\n",
    "                loss = criterion(y_pred.view(BATCH_SIZE,N_OUTPUTS),y_tar)\n",
    "                for p,param in enumerate(model_P[k+r*N_LAMBDA].parameters()):\n",
    "                    if param.requires_grad and len(param.shape)==2:\n",
    "                        if param.shape[0]==N_HIDDEN_NEURONS and param.shape[1]==N_HIDDEN_NEURONS:\n",
    "                            l2_reg = l2_reg + param[:gidx,:gidx].norm(p=1)\n",
    "                            l2_reg = l2_reg + param[gidx:,gidx:].norm(p=1)\n",
    "                        elif param.shape[1]==N_HIDDEN_NEURONS:\n",
    "                            l2_reg = l2_reg + param[:,gidx:].norm(p=1)\n",
    "                        elif param.shape[0]==N_HIDDEN_NEURONS:\n",
    "                            l2_reg = l2_reg + param[:gidx,:].norm(p=1)\n",
    "                regval_P.append(l2_reg.item())\n",
    "                loss = loss + l2_reg*reg_lambda/BATCH_SIZE\n",
    "                loss.backward()\n",
    "                optimizer.step()\n",
    "                running_train_loss+=loss.item()\n",
    "                running_train_acc+=get_accuracy(y_pred.view(BATCH_SIZE,N_OUTPUTS), y_tar)\n",
    "            \n",
    "            running_test_acc=0\n",
    "            running_test_loss=0\n",
    "            model_P[k+r*N_LAMBDA].eval()\n",
    "            for i,(x_test, y_test_tar) in enumerate(testloader):\n",
    "                x_test, y_test_tar = x_test.to(device), y_test_tar.to(device)\n",
    "                y_test_pred = model_P[k+r*N_LAMBDA](x_test.view(BATCH_SIZE,N_INPUTS))\n",
    "                loss = criterion(y_test_pred.view(BATCH_SIZE,N_OUTPUTS),y_test_tar)\n",
    "                running_test_loss+=loss.item()\n",
    "                running_test_acc+=get_accuracy(y_test_pred.view(BATCH_SIZE,N_OUTPUTS), y_test_tar)\n",
    "                \n",
    "            train_loss_P[epoch,k,r] = running_train_loss/len(trainloader)\n",
    "            train_acc_P[epoch,k,r] = running_train_acc/len(trainloader)\n",
    "            test_loss_P[epoch,k,r] = running_test_loss/len(testloader)\n",
    "            test_acc_P[epoch,k,r] = running_test_acc/len(testloader)\n",
    "            \n",
    "        # save the model and free the memory  \n",
    "        torch.save(model_P[k+r*N_LAMBDA].state_dict(), model_path)\n",
    "        model_P[k+r*N_LAMBDA] = [None]\n",
    "        del(l2_reg,loss,optimizer,criterion,plist,param)"
   ]
  },
  {
   "cell_type": "code",
   "execution_count": 98,
   "metadata": {},
   "outputs": [
    {
     "data": {
      "application/vnd.jupyter.widget-view+json": {
       "model_id": "b91c33ee14b441cbae8a1795e1404287",
       "version_major": 2,
       "version_minor": 0
      },
      "text/plain": [
       "HBox(children=(IntProgress(value=0, max=2), HTML(value='')))"
      ]
     },
     "metadata": {},
     "output_type": "display_data"
    },
    {
     "data": {
      "application/vnd.jupyter.widget-view+json": {
       "model_id": "1bc936579dab4d758e109e1eae0fcb75",
       "version_major": 2,
       "version_minor": 0
      },
      "text/plain": [
       "HBox(children=(IntProgress(value=0, max=4), HTML(value='')))"
      ]
     },
     "metadata": {},
     "output_type": "display_data"
    },
    {
     "data": {
      "application/vnd.jupyter.widget-view+json": {
       "model_id": "d9674b7e8c674807a4d9298c41e9f503",
       "version_major": 2,
       "version_minor": 0
      },
      "text/plain": [
       "HBox(children=(IntProgress(value=0, max=4), HTML(value='')))"
      ]
     },
     "metadata": {},
     "output_type": "display_data"
    }
   ],
   "source": [
    "# regularizing random elements of the matrix\n",
    "train_loss_R = np.zeros((N_EPHOCS,N_LAMBDA,N_REPS))\n",
    "train_acc_R = np.zeros((N_EPHOCS,N_LAMBDA,N_REPS))\n",
    "test_loss_R = np.zeros((N_EPHOCS,N_LAMBDA,N_REPS))\n",
    "test_acc_R = np.zeros((N_EPHOCS,N_LAMBDA,N_REPS))\n",
    "Phist_R = np.zeros((N_PARAMS,N_EPHOCS,N_LAMBDA,N_REPS))\n",
    "\n",
    "model_R =  [None] * N_LAMBDA*N_REPS\n",
    "regval_R = []\n",
    "for r in tnrange(N_REPS):\n",
    "    # generate a random binary mask for the parameter\n",
    "    rndmask = torch.FloatTensor(N_HIDDEN_NEURONS, N_HIDDEN_NEURONS).uniform_() > 0.5\n",
    "    while not rndmask.float().norm(p=1)==int(N_HIDDEN_NEURONS**2/2):\n",
    "        if rndmask.float().norm(p=1)>int(N_HIDDEN_NEURONS**2/2):\n",
    "            while True:\n",
    "                rndidx = np.random.randint(N_HIDDEN_NEURONS,size=(2))\n",
    "                if rndmask[rndidx[0],rndidx[1]]==1:\n",
    "                    rndmask[rndidx[0],rndidx[1]]=0\n",
    "                    break\n",
    "        else:\n",
    "            while True:\n",
    "                rndidx = np.random.randint(N_HIDDEN_NEURONS,size=(2))\n",
    "                if rndmask[rndidx[0],rndidx[1]]==0:\n",
    "                    rndmask[rndidx[0],rndidx[1]]=1\n",
    "                    break\n",
    "    rndmask = rndmask.to(device)\n",
    "    for k in tnrange(N_LAMBDA):\n",
    "        reg_lambda = lambdas[k]\n",
    "        model_path = '/Users/vinayakvsv/am221/AM221pset/Project/vv_sandbox/mlp_experiments/model_P_rep_{}_lambda_{:d}_10.pt'.format(r,int(reg_lambda*10))\n",
    "        # model_P[k+r*N_LAMBDA] = PRNN(N_INPUTS,N_HIDDEN,N_OUTPUTS,1,device).to(device)\n",
    "        model_R[k+r*N_LAMBDA] = MLP(N_INPUTS,N_HIDDEN_NEURONS,N_OUTPUTS,device)\n",
    "        l2_reg = torch.Tensor(1,device=device)\n",
    "        optimizer = torch.optim.SGD(model_R[k+r*N_LAMBDA].parameters(), lr=1e-2, momentum=0.9)\n",
    "        criterion = nn.CrossEntropyLoss()\n",
    "        \n",
    "        for epoch in range(N_EPHOCS):\n",
    "            nps = 0\n",
    "            running_train_loss=0\n",
    "            running_train_acc=0\n",
    "            model_R[k+r*N_LAMBDA].train()\n",
    "            for p, param in enumerate(model_R[k+r*N_LAMBDA].parameters()):\n",
    "                if param.requires_grad:\n",
    "                    plist = torch.flatten(param.data)\n",
    "                    for j in range(plist.size(0)):\n",
    "                        Phist_R[nps,epoch,k,r]=plist[j].item()\n",
    "                        nps+=1\n",
    "                        \n",
    "            for i, (x, y_tar) in enumerate(trainloader):\n",
    "                l2_reg = 0\n",
    "                x, y_tar = x.to(device), y_tar.to(device)\n",
    "                optimizer.zero_grad()\n",
    "                y_pred = model_R[k+r*N_LAMBDA](x.view(BATCH_SIZE,N_INPUTS))\n",
    "                loss = criterion(y_pred.view(BATCH_SIZE,N_OUTPUTS),y_tar)\n",
    "                for p,param in enumerate(model_R[k+r*N_LAMBDA].parameters()):\n",
    "                    if param.requires_grad and len(param.shape)==2:\n",
    "                        if param.shape[0]==N_HIDDEN_NEURONS and param.shape[1]==N_HIDDEN_NEURONS:\n",
    "                            l2_reg = l2_reg + torch.masked_select(param,rndmask).norm(p=1)\n",
    "                        elif param.shape[1]==N_HIDDEN_NEURONS:\n",
    "                            l2_reg = l2_reg + param[:,gidx:].norm(p=1)\n",
    "                        elif param.shape[0]==N_HIDDEN_NEURONS:\n",
    "                            l2_reg = l2_reg + param[:gidx,:].norm(p=1)\n",
    "                regval_R.append(l2_reg.item())\n",
    "                loss = loss + l2_reg*reg_lambda/BATCH_SIZE\n",
    "                loss.backward()\n",
    "                optimizer.step()\n",
    "                running_train_loss+=loss.item()\n",
    "                running_train_acc+=get_accuracy(y_pred.view(BATCH_SIZE,N_OUTPUTS), y_tar)\n",
    "              \n",
    "            running_test_acc=0\n",
    "            running_test_loss=0\n",
    "            model_R[k+r*N_LAMBDA].eval()\n",
    "            for i,(x_test, y_test_tar) in enumerate(testloader):\n",
    "                x_test, y_test_tar = x_test.to(device), y_test_tar.to(device)\n",
    "                y_test_pred = model_R[k+r*N_LAMBDA](x_test.view(BATCH_SIZE,N_INPUTS))\n",
    "                running_test_loss+=loss.item()\n",
    "                running_test_acc+=get_accuracy(y_test_pred.view(BATCH_SIZE,N_OUTPUTS), y_test_tar)\n",
    "              \n",
    "            train_loss_R[epoch,k,r] = running_train_loss/len(trainloader)\n",
    "            train_acc_R[epoch,k,r] = running_train_acc/len(trainloader)\n",
    "            test_loss_R[epoch,k,r] = running_test_loss/len(testloader)\n",
    "            test_acc_R[epoch,k,r] = running_test_acc/len(testloader)\n",
    "            \n",
    "        # save the model and free the memory  \n",
    "        torch.save(model_R[k+r*N_LAMBDA].state_dict(), model_path)\n",
    "        model_R[k+r*N_LAMBDA] = [None]\n",
    "        del(l2_reg,loss,optimizer,criterion,plist,param)"
   ]
  },
  {
   "cell_type": "code",
   "execution_count": 99,
   "metadata": {},
   "outputs": [
    {
     "data": {
      "application/vnd.jupyter.widget-view+json": {
       "model_id": "e3267fe7344f4ff59beed263c13a49c7",
       "version_major": 2,
       "version_minor": 0
      },
      "text/plain": [
       "HBox(children=(IntProgress(value=0, max=2), HTML(value='')))"
      ]
     },
     "metadata": {},
     "output_type": "display_data"
    },
    {
     "data": {
      "application/vnd.jupyter.widget-view+json": {
       "model_id": "512748c7611b4c7da223308ff63e4cb0",
       "version_major": 2,
       "version_minor": 0
      },
      "text/plain": [
       "HBox(children=(IntProgress(value=0, max=4), HTML(value='')))"
      ]
     },
     "metadata": {},
     "output_type": "display_data"
    },
    {
     "data": {
      "application/vnd.jupyter.widget-view+json": {
       "model_id": "5611b9f1f412411484bef4f14ec0a6a6",
       "version_major": 2,
       "version_minor": 0
      },
      "text/plain": [
       "HBox(children=(IntProgress(value=0, max=4), HTML(value='')))"
      ]
     },
     "metadata": {},
     "output_type": "display_data"
    }
   ],
   "source": [
    "# regularizing off-digonal blocks of the partitioned RNN\n",
    "train_loss_C = np.zeros((N_EPHOCS,N_LAMBDA,N_REPS))\n",
    "train_acc_C = np.zeros((N_EPHOCS,N_LAMBDA,N_REPS))\n",
    "test_loss_C = np.zeros((N_EPHOCS,N_LAMBDA,N_REPS))\n",
    "test_acc_C = np.zeros((N_EPHOCS,N_LAMBDA,N_REPS))\n",
    "Phist_C = np.zeros((N_PARAMS,N_EPHOCS,N_LAMBDA,N_REPS))\n",
    "\n",
    "model_C =  [None] * N_LAMBDA*N_REPS\n",
    "regval_C = []\n",
    "for r in tnrange(N_REPS):\n",
    "    for k in tnrange(N_LAMBDA):\n",
    "        reg_lambda = lambdas[k]\n",
    "        model_path = '/Users/vinayakvsv/am221/AM221pset/Project/vv_sandbox/mlp_experiments/model_P_rep_{}_lambda_{:d}_10.pt'.format(r,int(reg_lambda*10))\n",
    "        # model_P[k+r*N_LAMBDA] = PRNN(N_INPUTS,N_HIDDEN,N_OUTPUTS,1,device).to(device)\n",
    "        model_C[k+r*N_LAMBDA] = MLP(N_INPUTS,N_HIDDEN_NEURONS,N_OUTPUTS,device)\n",
    "        l2_reg = torch.Tensor(1,device=device)\n",
    "        optimizer = torch.optim.SGD(model_C[k+r*N_LAMBDA].parameters(), lr=1e-2, momentum=0.9)\n",
    "        criterion = nn.CrossEntropyLoss()\n",
    "        \n",
    "        for epoch in range(N_EPHOCS):\n",
    "            nps = 0\n",
    "            running_train_loss=0\n",
    "            running_train_acc=0\n",
    "            model_C[k+r*N_LAMBDA].train()\n",
    "            for p, param in enumerate(model_C[k+r*N_LAMBDA].parameters()):\n",
    "                if param.requires_grad:\n",
    "                    plist = torch.flatten(param.data)\n",
    "                    for j in range(plist.size(0)):\n",
    "                        Phist_C[nps,epoch,k,r]=plist[j].item()\n",
    "                        nps+=1\n",
    "\n",
    "            for i, (x, y_tar) in enumerate(trainloader):\n",
    "                l2_reg = 0\n",
    "                x, y_tar = x.to(device), y_tar.to(device)\n",
    "                optimizer.zero_grad()\n",
    "                y_pred = model_C[k+r*N_LAMBDA](x.view(BATCH_SIZE,N_INPUTS))\n",
    "                loss = criterion(y_pred.view(BATCH_SIZE,N_OUTPUTS),y_tar)\n",
    "                for p,param in enumerate(model_C[k+r*N_LAMBDA].parameters()):\n",
    "                    if param.requires_grad and len(param.shape)==2:\n",
    "                        if param.shape[0]==N_HIDDEN_NEURONS and param.shape[1]==N_HIDDEN_NEURONS:\n",
    "                            l2_reg = l2_reg + param[:gidx,gidx:].norm(p=1)\n",
    "                            l2_reg = l2_reg + param[gidx:,:gidx].norm(p=1)\n",
    "                        elif param.shape[1]==N_HIDDEN_NEURONS:\n",
    "                            l2_reg = l2_reg + param[:,gidx:].norm(p=1)\n",
    "                        elif param.shape[0]==N_HIDDEN_NEURONS:\n",
    "                            l2_reg = l2_reg + param[:gidx,:].norm(p=1)\n",
    "                regval_C.append(l2_reg.item())\n",
    "                loss = loss + l2_reg*reg_lambda/BATCH_SIZE\n",
    "                loss.backward()\n",
    "                optimizer.step()\n",
    "                running_train_loss+=loss.item()\n",
    "                running_train_acc+=get_accuracy(y_pred.view(BATCH_SIZE,N_OUTPUTS), y_tar)\n",
    "              \n",
    "            running_test_acc=0\n",
    "            running_test_loss=0\n",
    "            model_C[k+r*N_LAMBDA].eval()\n",
    "            for i,(x_test, y_test_tar) in enumerate(testloader):\n",
    "                x_test, y_test_tar = x_test.to(device), y_test_tar.to(device)\n",
    "                y_test_pred = model_C[k+r*N_LAMBDA](x_test.view(BATCH_SIZE,N_INPUTS))\n",
    "                running_test_loss+=loss.item()\n",
    "                running_test_acc+=get_accuracy(y_test_pred.view(BATCH_SIZE,N_OUTPUTS), y_test_tar)\n",
    "              \n",
    "            train_loss_C[epoch,k,r] = running_train_loss/len(trainloader)\n",
    "            train_acc_C[epoch,k,r] = running_train_acc/len(trainloader)\n",
    "            test_loss_C[epoch,k,r] = running_test_loss/len(testloader)\n",
    "            test_acc_C[epoch,k,r] = running_test_acc/len(testloader)\n",
    "            \n",
    "        # save the model and free the memory  \n",
    "        torch.save(model_C[k+r*N_LAMBDA].state_dict(), model_path)\n",
    "        model_C[k+r*N_LAMBDA] = [None]\n",
    "        del(l2_reg,loss,optimizer,criterion,plist,param)"
   ]
  },
  {
   "cell_type": "code",
   "execution_count": 100,
   "metadata": {},
   "outputs": [
    {
     "name": "stdout",
     "output_type": "stream",
     "text": [
      "torch.Size([1])\n",
      "torch.Size([1])\n",
      "torch.Size([10, 100])\n",
      "torch.Size([10])\n",
      "torch.Size([100, 100])\n",
      "torch.Size([100])\n",
      "torch.Size([100, 784])\n",
      "torch.Size([100])\n"
     ]
    }
   ],
   "source": [
    "# plt.figure(figsize=(14,5))\n",
    "# plt.subplot(1,2,1)\n",
    "# sidx = int((N_INPUTS+N_OUTPUTS+1)*N_HIDDEN)\n",
    "# ridx = int(N_HIDDEN*N_HIDDEN)\n",
    "# rval_P = np.asarray(regval_P)\n",
    "# rval_P = np.mean(rval_P.reshape(N_REPS,int(len(rval_P)/N_REPS)).T,axis=1)\n",
    "# rval_P = rval_P.reshape(N_LAMBDA,int(len(rval_P)/N_LAMBDA)).T\n",
    "# rval_C = np.asarray(regval_C)\n",
    "# rval_C = np.mean(rval_C.reshape(N_REPS,int(len(rval_C)/N_REPS)).T,axis=1)\n",
    "# rval_C = rval_C.reshape(N_LAMBDA,int(len(rval_C)/N_LAMBDA)).T\n",
    "# rval_R = np.asarray(regval_R)\n",
    "# rval_R = np.mean(rval_R.reshape(N_REPS,int(len(rval_R)/N_REPS)).T,axis=1)\n",
    "# rval_R = rval_R.reshape(N_LAMBDA,int(len(rval_R)/N_LAMBDA)).T\n",
    "# plt.plot(lambdas,rval_P[-1,],label='diagonal')\n",
    "# plt.plot(lambdas,rval_C[-1,],label='off-diagonal')\n",
    "# plt.plot(lambdas,rval_R[-1,],label='random')\n",
    "# plt.title('L1 norm of regularized hidden-hidden weight')\n",
    "# plt.ylabel('L1 norm')\n",
    "# plt.xlabel('lambda')\n",
    "# plt.subplot(1,2,2)\n",
    "# plt.plot(lambdas,np.mean(np.sum(np.abs(Phist_P[sidx:(sidx+ridx),-1,:,:].squeeze())<0.0025,axis=0),axis=1)/ridx,'-',label='diagonal')\n",
    "# plt.plot(lambdas,np.mean(np.sum(np.abs(Phist_C[sidx:(sidx+ridx),-1,:,:].squeeze())<0.0025,axis=0),axis=1)/ridx,'-',label='off-diagonal')\n",
    "# plt.plot(lambdas,np.mean(np.sum(np.abs(Phist_R[sidx:(sidx+ridx),-1,:,:].squeeze())<0.0025,axis=0),axis=1)/ridx,'-',label='random')\n",
    "# plt.plot(lambdas,0.5*np.ones_like(lambdas),'k--')\n",
    "# plt.ylim((0,.55))\n",
    "# plt.legend()\n",
    "# plt.title('Fraction of zero weight')\n",
    "# plt.xlabel('lambda')\n",
    "# plt.ylabel('Fraction')\n",
    "# plt.show()\n",
    "for p,param in enumerate(model.parameters()):\n",
    "    if param.requires_grad:\n",
    "        print(param.shape)"
   ]
  },
  {
   "cell_type": "code",
   "execution_count": 101,
   "metadata": {},
   "outputs": [
    {
     "data": {
      "image/png": "[encoded data removed]",
      "text/plain": [
       "<Figure size 1008x360 with 2 Axes>"
      ]
     },
     "metadata": {
      "needs_background": "light"
     },
     "output_type": "display_data"
    }
   ],
   "source": [
    "plt.figure(figsize=(14,5))\n",
    "plt.subplot(1,2,1)\n",
    "sidx = int(N_OUTPUTS*(1+N_HIDDEN_NEURONS)+2)\n",
    "ridx = int(N_HIDDEN_NEURONS*N_HIDDEN_NEURONS)\n",
    "rval_P = np.asarray(regval_P)\n",
    "rval_P = np.mean(rval_P.reshape(N_REPS,int(len(rval_P)/N_REPS)).T,axis=1)\n",
    "rval_P = rval_P.reshape(N_LAMBDA,int(len(rval_P)/N_LAMBDA)).T\n",
    "rval_C = np.asarray(regval_C)\n",
    "rval_C = np.mean(rval_C.reshape(N_REPS,int(len(rval_C)/N_REPS)).T,axis=1)\n",
    "rval_C = rval_C.reshape(N_LAMBDA,int(len(rval_C)/N_LAMBDA)).T\n",
    "rval_R = np.asarray(regval_R)\n",
    "rval_R = np.mean(rval_R.reshape(N_REPS,int(len(rval_R)/N_REPS)).T,axis=1)\n",
    "rval_R = rval_R.reshape(N_LAMBDA,int(len(rval_R)/N_LAMBDA)).T\n",
    "plt.plot(lambdas,rval_P[-1,],label='diagonal')\n",
    "# plt.plot(lambdas,rval_C[-1,],label='off-diagonal')\n",
    "plt.plot(lambdas,rval_R[-1,],label='random')\n",
    "plt.title('L1 norm of regularized hidden-hidden weight')\n",
    "plt.ylabel('L1 norm')\n",
    "plt.xlabel('lambda')\n",
    "plt.subplot(1,2,2)\n",
    "plt.plot(lambdas,np.mean(np.sum(np.abs(Phist_P[sidx:(sidx+ridx),-1,:,:].squeeze())<0.0025,axis=0),axis=1)/ridx,'-',label='diagonal')\n",
    "# plt.plot(lambdas,np.mean(np.sum(np.abs(Phist_C[sidx:(sidx+ridx),-1,:,:].squeeze())<0.0025,axis=0),axis=1)/ridx,'-',label='off-diagonal')\n",
    "plt.plot(lambdas,np.mean(np.sum(np.abs(Phist_R[sidx:(sidx+ridx),-1,:,:].squeeze())<0.0025,axis=0),axis=1)/ridx,'-',label='random')\n",
    "plt.plot(lambdas,0.5*np.ones_like(lambdas),'k--')\n",
    "plt.ylim((0,.55))\n",
    "plt.legend()\n",
    "plt.title('Fraction of zero weight')\n",
    "plt.xlabel('lambda')\n",
    "plt.ylabel('Fraction')\n",
    "plt.show()"
   ]
  },
  {
   "cell_type": "code",
   "execution_count": 102,
   "metadata": {},
   "outputs": [
    {
     "data": {
      "image/png": "[encoded data removed]",
      "text/plain": [
       "<Figure size 1008x360 with 2 Axes>"
      ]
     },
     "metadata": {
      "needs_background": "light"
     },
     "output_type": "display_data"
    }
   ],
   "source": [
    "plt.figure(figsize=(14,5))\n",
    "plt.subplot(1,2,1)\n",
    "plt.plot(lambdas,np.mean(train_acc_P[-1,:,:].squeeze(),axis = 1).T,'-')\n",
    "# plt.plot(lambdas,np.mean(train_acc_C[-1,:,:].squeeze(),axis = 1).T,'-')\n",
    "plt.plot(lambdas,np.mean(train_acc_R[-1,:,:].squeeze(),axis = 1).T,'-')\n",
    "plt.ylim((92,95))\n",
    "plt.title('Train accuracy vs. regularization')\n",
    "plt.xlabel('lambda')\n",
    "plt.ylabel('Accuracy on Train set')\n",
    "plt.subplot(1,2,2)\n",
    "plt.plot(lambdas,np.mean(test_acc_P[-1,:,:].squeeze(),axis = 1).T,'-',label='diagonal')\n",
    "# plt.plot(lambdas,np.mean(test_acc_C[-1,:,:].squeeze(),axis = 1).T,'-',label='off-diagonal')\n",
    "plt.plot(lambdas,np.mean(test_acc_R[-1,:,:].squeeze(),axis = 1).T,'-',label='random')\n",
    "plt.legend()\n",
    "plt.ylim((92,95))\n",
    "plt.title('Test accuracy vs. regularization')\n",
    "plt.xlabel('lambda')\n",
    "plt.ylabel('Accuracy on Test set')\n",
    "plt.show()"
   ]
  },
  {
   "cell_type": "code",
   "execution_count": 74,
   "metadata": {},
   "outputs": [
    {
     "name": "stderr",
     "output_type": "stream",
     "text": [
      "/Users/vinayakvsv/anaconda3/lib/python3.6/site-packages/matplotlib/axes/_axes.py:6521: MatplotlibDeprecationWarning: \n",
      "The 'normed' kwarg was deprecated in Matplotlib 2.1 and will be removed in 3.1. Use 'density' instead.\n",
      "  alternative=\"'density'\", removal=\"3.1\")\n"
     ]
    },
    {
     "data": {
      "image/png": "[encoded data removed]",
      "text/plain": [
       "<Figure size 432x288 with 1 Axes>"
      ]
     },
     "metadata": {
      "needs_background": "light"
     },
     "output_type": "display_data"
    },
    {
     "data": {
      "image/png": "[encoded data removed]",
      "text/plain": [
       "<Figure size 1008x360 with 2 Axes>"
      ]
     },
     "metadata": {
      "needs_background": "light"
     },
     "output_type": "display_data"
    }
   ],
   "source": [
    "plt.hist(Phist_P[:,-1,-1,0],label='diagonal',normed=1, histtype='step',bins=np.arange(-0.5,0.5,0.005),log=True)\n",
    "# plt.hist(Phist_C[:,-1,-1,0],label='off-diagonal',normed=1, histtype='step',bins=np.arange(-0.5,0.5,0.005),log=True)\n",
    "plt.hist(Phist_R[:,-1,-1,0],label='random',normed=1, histtype='step',bins=np.arange(-0.5,0.5,0.005),log=True)\n",
    "plt.xlim((-.25,.25))\n",
    "plt.xlabel('Wedight')\n",
    "plt.show()\n",
    "\n",
    "plt.figure(figsize=(14,5))\n",
    "plt.subplot(1,2,1)\n",
    "plt.plot(lambdas,1/(1+np.exp(-np.mean(Phist_P[0,-1,:,:],axis=1).squeeze())),'-',label='diagonal')\n",
    "# plt.plot(lambdas,1/(1+np.exp(-np.mean(Phist_C[0,-1,:,:],axis=1).squeeze())),'-',label='off-diagonal')\n",
    "plt.plot(lambdas,1/(1+np.exp(-np.mean(Phist_R[0,-1,:,:],axis=1).squeeze())),'-',label='random')\n",
    "plt.ylim((0.5,0.8))\n",
    "plt.legend()\n",
    "plt.title('Size of time step vs. regularization')\n",
    "plt.ylabel('Time step size')\n",
    "plt.xlabel('lambda')\n",
    "plt.subplot(1,2,2)\n",
    "plt.plot(lambdas,np.mean(Phist_P[1,-1,:,:],axis=1).squeeze(),'-',label='diagonal')\n",
    "plt.plot(lambdas,np.mean(Phist_C[1,-1,:,:],axis=1).squeeze(),'-',label='off-diagonal')\n",
    "plt.plot(lambdas,np.mean(Phist_R[1,-1,:,:],axis=1).squeeze(),'-',label='random')\n",
    "plt.ylim((2,3.5))\n",
    "plt.legend()\n",
    "plt.title('Amplification vs. Regularization')\n",
    "plt.ylabel('Amplification')\n",
    "plt.xlabel('lambda')\n",
    "plt.show()"
   ]
  },
  {
   "cell_type": "code",
   "execution_count": null,
   "metadata": {},
   "outputs": [],
   "source": [
    "import pickle\n",
    "pickle.dump([lambdas,N_EPHOCS,N_REPS,Phist_P,Phist_C,Phist_R,regval_P,regval_C,regval_R,test_acc_P, train_acc_P,test_acc_C, train_acc_C,test_acc_R, train_acc_R,test_loss_P, train_loss_P,test_loss_C, train_loss_C,test_loss_R, train_loss_R], open( \"sess_params_0404.pkl\", \"wb\" ) )"
   ]
  },
  {
   "cell_type": "code",
   "execution_count": null,
   "metadata": {},
   "outputs": [],
   "source": [
    "# PCA on the weight space over time\n",
    "from sklearn.decomposition import PCA\n",
    "PCA()\n",
    "# sklearn.decomposition.PCA()\n"
   ]
  },
  {
   "cell_type": "code",
   "execution_count": 172,
   "metadata": {},
   "outputs": [
    {
     "name": "stdout",
     "output_type": "stream",
     "text": [
      "770\n",
      "1052418\n"
     ]
    }
   ],
   "source": [
    "# Test MLP on Anna Karenina\n",
    "# Load Anna Karenina\n",
    "from torch.utils.data import DataLoader # dataloader \n",
    "import sys\n",
    "sys.path.insert(0,'../final_project/Data/')\n",
    "from AnnaDataset import AnnaDataset, InvertAnna # import AK dataset\n",
    "\n",
    "# params\n",
    "BATCH_SIZE = 2048 # how many batches we are running\n",
    "N_STEPS = 10 # How many characters are we inputting into the list at a time\n",
    "N_HIDDEN_NEURONS = 512 # how many neurons per hidden layer\n",
    "N_LAYERS = 2 # 2 hidden layers\n",
    "N_EPOCHS = 11 # how many training epocs\n",
    "learning_rates = np.asarray([1e-4,1e-6,1e-8]) # learning rates\n",
    "N_REPS = 2 # len(learning_rates) # the number of learning repetitions\n",
    "\n",
    "# load data\n",
    "dataset = AnnaDataset(N_STEPS) # load the dataset\n",
    "trainloader = DataLoader(dataset, batch_size=BATCH_SIZE,\n",
    "                        shuffle=False, num_workers=4) # create a DataLoader. We want a batch of BATCH_SIZE entries\n",
    "testloader = DataLoader(dataset, batch_size=BATCH_SIZE,\n",
    "                        shuffle=False, num_workers=4) # create a DataLoader. We want a batch of BATCH_SIZE entries\n",
    "\n",
    "\n",
    "N_INPUTS = len(dataset.categories) * N_STEPS # we want our MLP to have as many inputs as there are characters*letters in the text\n",
    "print(N_INPUTS)\n",
    "N_OUTPUTS = N_INPUTS # len(dataset.categories)  # we want to predict the next character in the text\n",
    "\n",
    "# define the nnumber of parameters we need\n",
    "def nparam_MLP(N_INPUTS,N_HIDDEN,N_OUTPUTS):\n",
    "    input_to_hidden1 = (N_INPUTS+1)*N_HIDDEN #+1 for bias\n",
    "    hidden1_to_hidden2 = (N_HIDDEN + 1)*N_HIDDEN\n",
    "    hidden2_to_output = (N_OUTPUTS)*(N_HIDDEN+1)\n",
    "    return(sum([input_to_hidden1,hidden1_to_hidden2,hidden2_to_output]))\n",
    "\n",
    "N_PARAMS = nparam_MLP(N_INPUTS,N_HIDDEN_NEURONS,N_OUTPUTS)\n",
    "print(N_PARAMS)"
   ]
  },
  {
   "cell_type": "code",
   "execution_count": 166,
   "metadata": {},
   "outputs": [
    {
     "name": "stdout",
     "output_type": "stream",
     "text": [
      "torch.Size([2048, 10, 77])\n"
     ]
    }
   ],
   "source": [
    "x,y = next(iter(trainloader))\n",
    "print(x.shape)#view(BATCH_SIZE,N_STEPS*N_CHAR).shape)"
   ]
  },
  {
   "cell_type": "code",
   "execution_count": 173,
   "metadata": {},
   "outputs": [
    {
     "data": {
      "application/vnd.jupyter.widget-view+json": {
       "model_id": "48f7be6c0bcf437298f8441f8411b818",
       "version_major": 2,
       "version_minor": 0
      },
      "text/plain": [
       "HBox(children=(IntProgress(value=0, max=2), HTML(value='')))"
      ]
     },
     "metadata": {},
     "output_type": "display_data"
    },
    {
     "data": {
      "application/vnd.jupyter.widget-view+json": {
       "model_id": "52a896c1fcb9430b956d602a5d6f3e7b",
       "version_major": 2,
       "version_minor": 0
      },
      "text/plain": [
       "HBox(children=(IntProgress(value=0, max=4), HTML(value='')))"
      ]
     },
     "metadata": {},
     "output_type": "display_data"
    },
    {
     "name": "stdout",
     "output_type": "stream",
     "text": [
      "torch.Size([2048, 770])\n",
      "torch.Size([2048, 10])\n"
     ]
    },
    {
     "ename": "RuntimeError",
     "evalue": "multi-target not supported at /Users/soumith/mc3build/conda-bld/pytorch_1549593514549/work/aten/src/THNN/generic/ClassNLLCriterion.c:21",
     "output_type": "error",
     "traceback": [
      "\u001b[0;31m---------------------------------------------------------------------------\u001b[0m",
      "\u001b[0;31mRuntimeError\u001b[0m                              Traceback (most recent call last)",
      "\u001b[0;32m<ipython-input-173-a105e220e8e3>\u001b[0m in \u001b[0;36m<module>\u001b[0;34m\u001b[0m\n\u001b[1;32m     40\u001b[0m                 \u001b[0mprint\u001b[0m\u001b[0;34m(\u001b[0m\u001b[0my_pred\u001b[0m\u001b[0;34m.\u001b[0m\u001b[0mview\u001b[0m\u001b[0;34m(\u001b[0m\u001b[0mBATCH_SIZE\u001b[0m\u001b[0;34m,\u001b[0m\u001b[0mN_OUTPUTS\u001b[0m\u001b[0;34m)\u001b[0m\u001b[0;34m.\u001b[0m\u001b[0mshape\u001b[0m\u001b[0;34m)\u001b[0m\u001b[0;34m\u001b[0m\u001b[0;34m\u001b[0m\u001b[0m\n\u001b[1;32m     41\u001b[0m                 \u001b[0mprint\u001b[0m\u001b[0;34m(\u001b[0m\u001b[0my_tar\u001b[0m\u001b[0;34m.\u001b[0m\u001b[0mshape\u001b[0m\u001b[0;34m)\u001b[0m\u001b[0;34m\u001b[0m\u001b[0;34m\u001b[0m\u001b[0m\n\u001b[0;32m---> 42\u001b[0;31m                 \u001b[0mloss\u001b[0m \u001b[0;34m=\u001b[0m \u001b[0mcriterion\u001b[0m\u001b[0;34m(\u001b[0m\u001b[0my_pred\u001b[0m\u001b[0;34m.\u001b[0m\u001b[0mview\u001b[0m\u001b[0;34m(\u001b[0m\u001b[0mBATCH_SIZE\u001b[0m\u001b[0;34m,\u001b[0m\u001b[0mN_OUTPUTS\u001b[0m\u001b[0;34m)\u001b[0m\u001b[0;34m,\u001b[0m\u001b[0my_tar\u001b[0m\u001b[0;34m)\u001b[0m \u001b[0;31m# what is the appropriate loss for AK? # look to HAMLET code...\u001b[0m\u001b[0;34m\u001b[0m\u001b[0;34m\u001b[0m\u001b[0m\n\u001b[0m\u001b[1;32m     43\u001b[0m \u001b[0;34m\u001b[0m\u001b[0m\n\u001b[1;32m     44\u001b[0m \u001b[0;34m\u001b[0m\u001b[0m\n",
      "\u001b[0;32m~/anaconda3/lib/python3.6/site-packages/torch/nn/modules/module.py\u001b[0m in \u001b[0;36m__call__\u001b[0;34m(self, *input, **kwargs)\u001b[0m\n\u001b[1;32m    487\u001b[0m             \u001b[0mresult\u001b[0m \u001b[0;34m=\u001b[0m \u001b[0mself\u001b[0m\u001b[0;34m.\u001b[0m\u001b[0m_slow_forward\u001b[0m\u001b[0;34m(\u001b[0m\u001b[0;34m*\u001b[0m\u001b[0minput\u001b[0m\u001b[0;34m,\u001b[0m \u001b[0;34m**\u001b[0m\u001b[0mkwargs\u001b[0m\u001b[0;34m)\u001b[0m\u001b[0;34m\u001b[0m\u001b[0;34m\u001b[0m\u001b[0m\n\u001b[1;32m    488\u001b[0m         \u001b[0;32melse\u001b[0m\u001b[0;34m:\u001b[0m\u001b[0;34m\u001b[0m\u001b[0;34m\u001b[0m\u001b[0m\n\u001b[0;32m--> 489\u001b[0;31m             \u001b[0mresult\u001b[0m \u001b[0;34m=\u001b[0m \u001b[0mself\u001b[0m\u001b[0;34m.\u001b[0m\u001b[0mforward\u001b[0m\u001b[0;34m(\u001b[0m\u001b[0;34m*\u001b[0m\u001b[0minput\u001b[0m\u001b[0;34m,\u001b[0m \u001b[0;34m**\u001b[0m\u001b[0mkwargs\u001b[0m\u001b[0;34m)\u001b[0m\u001b[0;34m\u001b[0m\u001b[0;34m\u001b[0m\u001b[0m\n\u001b[0m\u001b[1;32m    490\u001b[0m         \u001b[0;32mfor\u001b[0m \u001b[0mhook\u001b[0m \u001b[0;32min\u001b[0m \u001b[0mself\u001b[0m\u001b[0;34m.\u001b[0m\u001b[0m_forward_hooks\u001b[0m\u001b[0;34m.\u001b[0m\u001b[0mvalues\u001b[0m\u001b[0;34m(\u001b[0m\u001b[0;34m)\u001b[0m\u001b[0;34m:\u001b[0m\u001b[0;34m\u001b[0m\u001b[0;34m\u001b[0m\u001b[0m\n\u001b[1;32m    491\u001b[0m             \u001b[0mhook_result\u001b[0m \u001b[0;34m=\u001b[0m \u001b[0mhook\u001b[0m\u001b[0;34m(\u001b[0m\u001b[0mself\u001b[0m\u001b[0;34m,\u001b[0m \u001b[0minput\u001b[0m\u001b[0;34m,\u001b[0m \u001b[0mresult\u001b[0m\u001b[0;34m)\u001b[0m\u001b[0;34m\u001b[0m\u001b[0;34m\u001b[0m\u001b[0m\n",
      "\u001b[0;32m~/anaconda3/lib/python3.6/site-packages/torch/nn/modules/loss.py\u001b[0m in \u001b[0;36mforward\u001b[0;34m(self, input, target)\u001b[0m\n\u001b[1;32m    902\u001b[0m     \u001b[0;32mdef\u001b[0m \u001b[0mforward\u001b[0m\u001b[0;34m(\u001b[0m\u001b[0mself\u001b[0m\u001b[0;34m,\u001b[0m \u001b[0minput\u001b[0m\u001b[0;34m,\u001b[0m \u001b[0mtarget\u001b[0m\u001b[0;34m)\u001b[0m\u001b[0;34m:\u001b[0m\u001b[0;34m\u001b[0m\u001b[0;34m\u001b[0m\u001b[0m\n\u001b[1;32m    903\u001b[0m         return F.cross_entropy(input, target, weight=self.weight,\n\u001b[0;32m--> 904\u001b[0;31m                                ignore_index=self.ignore_index, reduction=self.reduction)\n\u001b[0m\u001b[1;32m    905\u001b[0m \u001b[0;34m\u001b[0m\u001b[0m\n\u001b[1;32m    906\u001b[0m \u001b[0;34m\u001b[0m\u001b[0m\n",
      "\u001b[0;32m~/anaconda3/lib/python3.6/site-packages/torch/nn/functional.py\u001b[0m in \u001b[0;36mcross_entropy\u001b[0;34m(input, target, weight, size_average, ignore_index, reduce, reduction)\u001b[0m\n\u001b[1;32m   1968\u001b[0m     \u001b[0;32mif\u001b[0m \u001b[0msize_average\u001b[0m \u001b[0;32mis\u001b[0m \u001b[0;32mnot\u001b[0m \u001b[0;32mNone\u001b[0m \u001b[0;32mor\u001b[0m \u001b[0mreduce\u001b[0m \u001b[0;32mis\u001b[0m \u001b[0;32mnot\u001b[0m \u001b[0;32mNone\u001b[0m\u001b[0;34m:\u001b[0m\u001b[0;34m\u001b[0m\u001b[0;34m\u001b[0m\u001b[0m\n\u001b[1;32m   1969\u001b[0m         \u001b[0mreduction\u001b[0m \u001b[0;34m=\u001b[0m \u001b[0m_Reduction\u001b[0m\u001b[0;34m.\u001b[0m\u001b[0mlegacy_get_string\u001b[0m\u001b[0;34m(\u001b[0m\u001b[0msize_average\u001b[0m\u001b[0;34m,\u001b[0m \u001b[0mreduce\u001b[0m\u001b[0;34m)\u001b[0m\u001b[0;34m\u001b[0m\u001b[0;34m\u001b[0m\u001b[0m\n\u001b[0;32m-> 1970\u001b[0;31m     \u001b[0;32mreturn\u001b[0m \u001b[0mnll_loss\u001b[0m\u001b[0;34m(\u001b[0m\u001b[0mlog_softmax\u001b[0m\u001b[0;34m(\u001b[0m\u001b[0minput\u001b[0m\u001b[0;34m,\u001b[0m \u001b[0;36m1\u001b[0m\u001b[0;34m)\u001b[0m\u001b[0;34m,\u001b[0m \u001b[0mtarget\u001b[0m\u001b[0;34m,\u001b[0m \u001b[0mweight\u001b[0m\u001b[0;34m,\u001b[0m \u001b[0;32mNone\u001b[0m\u001b[0;34m,\u001b[0m \u001b[0mignore_index\u001b[0m\u001b[0;34m,\u001b[0m \u001b[0;32mNone\u001b[0m\u001b[0;34m,\u001b[0m \u001b[0mreduction\u001b[0m\u001b[0;34m)\u001b[0m\u001b[0;34m\u001b[0m\u001b[0;34m\u001b[0m\u001b[0m\n\u001b[0m\u001b[1;32m   1971\u001b[0m \u001b[0;34m\u001b[0m\u001b[0m\n\u001b[1;32m   1972\u001b[0m \u001b[0;34m\u001b[0m\u001b[0m\n",
      "\u001b[0;32m~/anaconda3/lib/python3.6/site-packages/torch/nn/functional.py\u001b[0m in \u001b[0;36mnll_loss\u001b[0;34m(input, target, weight, size_average, ignore_index, reduce, reduction)\u001b[0m\n\u001b[1;32m   1788\u001b[0m                          .format(input.size(0), target.size(0)))\n\u001b[1;32m   1789\u001b[0m     \u001b[0;32mif\u001b[0m \u001b[0mdim\u001b[0m \u001b[0;34m==\u001b[0m \u001b[0;36m2\u001b[0m\u001b[0;34m:\u001b[0m\u001b[0;34m\u001b[0m\u001b[0;34m\u001b[0m\u001b[0m\n\u001b[0;32m-> 1790\u001b[0;31m         \u001b[0mret\u001b[0m \u001b[0;34m=\u001b[0m \u001b[0mtorch\u001b[0m\u001b[0;34m.\u001b[0m\u001b[0m_C\u001b[0m\u001b[0;34m.\u001b[0m\u001b[0m_nn\u001b[0m\u001b[0;34m.\u001b[0m\u001b[0mnll_loss\u001b[0m\u001b[0;34m(\u001b[0m\u001b[0minput\u001b[0m\u001b[0;34m,\u001b[0m \u001b[0mtarget\u001b[0m\u001b[0;34m,\u001b[0m \u001b[0mweight\u001b[0m\u001b[0;34m,\u001b[0m \u001b[0m_Reduction\u001b[0m\u001b[0;34m.\u001b[0m\u001b[0mget_enum\u001b[0m\u001b[0;34m(\u001b[0m\u001b[0mreduction\u001b[0m\u001b[0;34m)\u001b[0m\u001b[0;34m,\u001b[0m \u001b[0mignore_index\u001b[0m\u001b[0;34m)\u001b[0m\u001b[0;34m\u001b[0m\u001b[0;34m\u001b[0m\u001b[0m\n\u001b[0m\u001b[1;32m   1791\u001b[0m     \u001b[0;32melif\u001b[0m \u001b[0mdim\u001b[0m \u001b[0;34m==\u001b[0m \u001b[0;36m4\u001b[0m\u001b[0;34m:\u001b[0m\u001b[0;34m\u001b[0m\u001b[0;34m\u001b[0m\u001b[0m\n\u001b[1;32m   1792\u001b[0m         \u001b[0mret\u001b[0m \u001b[0;34m=\u001b[0m \u001b[0mtorch\u001b[0m\u001b[0;34m.\u001b[0m\u001b[0m_C\u001b[0m\u001b[0;34m.\u001b[0m\u001b[0m_nn\u001b[0m\u001b[0;34m.\u001b[0m\u001b[0mnll_loss2d\u001b[0m\u001b[0;34m(\u001b[0m\u001b[0minput\u001b[0m\u001b[0;34m,\u001b[0m \u001b[0mtarget\u001b[0m\u001b[0;34m,\u001b[0m \u001b[0mweight\u001b[0m\u001b[0;34m,\u001b[0m \u001b[0m_Reduction\u001b[0m\u001b[0;34m.\u001b[0m\u001b[0mget_enum\u001b[0m\u001b[0;34m(\u001b[0m\u001b[0mreduction\u001b[0m\u001b[0;34m)\u001b[0m\u001b[0;34m,\u001b[0m \u001b[0mignore_index\u001b[0m\u001b[0;34m)\u001b[0m\u001b[0;34m\u001b[0m\u001b[0;34m\u001b[0m\u001b[0m\n",
      "\u001b[0;31mRuntimeError\u001b[0m: multi-target not supported at /Users/soumith/mc3build/conda-bld/pytorch_1549593514549/work/aten/src/THNN/generic/ClassNLLCriterion.c:21"
     ]
    }
   ],
   "source": [
    "# regularizing digonal blocks of the partitioned RNN\n",
    "train_loss_P = np.zeros((N_EPHOCS,N_LAMBDA,N_REPS))\n",
    "train_acc_P = np.zeros((N_EPHOCS,N_LAMBDA,N_REPS))\n",
    "test_loss_P = np.zeros((N_EPHOCS,N_LAMBDA,N_REPS))\n",
    "test_acc_P = np.zeros((N_EPHOCS,N_LAMBDA,N_REPS))\n",
    "Phist_P = np.zeros((N_PARAMS,N_EPHOCS,N_LAMBDA,N_REPS))\n",
    "\n",
    "model_P = [None]*N_LAMBDA*N_REPS\n",
    "regval_P = []\n",
    "for r in tnrange(N_REPS):\n",
    "    for k in tnrange(N_LAMBDA):\n",
    "        reg_lambda = lambdas[k]\n",
    "        # model_path = 'D:\\chongguo\\git\\AM221pset\\Project\\Final Project\\History\\Lamb\\model_P_rep_{}_lambda_{:d}_10.pt'.format(r,int(reg_lambda*10))\n",
    "        model_path = '/Users/vinayakvsv/am221/AM221pset/Project/vv_sandbox/mlp_experiments/model_P_rep_{}_lambda_{:d}_10.pt'.format(r,int(reg_lambda*10))\n",
    "        # model_P[k+r*N_LAMBDA] = PRNN(N_INPUTS,N_HIDDEN,N_OUTPUTS,1,device).to(device)\n",
    "        model_P[k+r*N_LAMBDA] = MLP(N_INPUTS,N_HIDDEN_NEURONS,N_OUTPUTS,device)\n",
    "        l2_reg = torch.Tensor(1,device=device)\n",
    "        optimizer = torch.optim.SGD(model_P[k+r*N_LAMBDA].parameters(), lr=1e-2, momentum=0.9)\n",
    "        criterion = nn.CrossEntropyLoss() \n",
    "        # note that cross-entropy loss expects the indices of the class, not the one-hot. So, for A = [1,0,0,...] and B = [0,1,0,...], A is 0 and B is 1\n",
    "        \n",
    "        for epoch in range(N_EPHOCS):\n",
    "            nps = 0\n",
    "            running_train_loss=0\n",
    "            running_train_acc=0\n",
    "            model_P[k+r*N_LAMBDA].train()\n",
    "            for p, param in enumerate(model_P[k+r*N_LAMBDA].parameters()):\n",
    "                if param.requires_grad:\n",
    "                    plist = torch.flatten(param.data)\n",
    "                    for j in range(plist.size(0)):\n",
    "                        while nps < Phist_P.shape[0]:\n",
    "                            Phist_P[nps,epoch,k,r]=plist[j].item()\n",
    "                            nps+=1\n",
    "\n",
    "            for i, (x, y_tar) in enumerate(trainloader):\n",
    "                l2_reg = 0\n",
    "                x, y_tar = x.to(device), y_tar.to(device)\n",
    "                optimizer.zero_grad()\n",
    "                y_pred = model_P[k+r*N_LAMBDA](x.view(BATCH_SIZE,N_INPUTS))\n",
    "                print(y_pred.view(BATCH_SIZE,N_OUTPUTS).shape)\n",
    "                print(y_tar.shape)\n",
    "                loss = criterion(y_pred.view(BATCH_SIZE,N_OUTPUTS),y_tar) # what is the appropriate loss for AK? # look to HAMLET code...\n",
    "                \n",
    "                \n",
    "                for p,param in enumerate(model_P[k+r*N_LAMBDA].parameters()):\n",
    "                    if param.requires_grad and len(param.shape)==2:\n",
    "                        if param.shape[0]==N_HIDDEN_NEURONS and param.shape[1]==N_HIDDEN_NEURONS:\n",
    "                            l2_reg = l2_reg + param[:gidx,:gidx].norm(p=1)\n",
    "                            l2_reg = l2_reg + param[gidx:,gidx:].norm(p=1)\n",
    "                        elif param.shape[1]==N_HIDDEN_NEURONS:\n",
    "                            l2_reg = l2_reg + param[:,gidx:].norm(p=1)\n",
    "                        elif param.shape[0]==N_HIDDEN_NEURONS:\n",
    "                            l2_reg = l2_reg + param[:gidx,:].norm(p=1)\n",
    "                regval_P.append(l2_reg.item())\n",
    "                loss = loss + l2_reg*reg_lambda/BATCH_SIZE\n",
    "                loss.backward()\n",
    "                optimizer.step()\n",
    "                running_train_loss+=loss.item()\n",
    "                running_train_acc+=get_accuracy(y_pred.view(BATCH_SIZE,N_OUTPUTS), y_tar)\n",
    "            \n",
    "            running_test_acc=0\n",
    "            running_test_loss=0\n",
    "            model_P[k+r*N_LAMBDA].eval()\n",
    "            for i,(x_test, y_test_tar) in enumerate(testloader):\n",
    "                x_test, y_test_tar = x_test.to(device), y_test_tar.to(device)\n",
    "                y_test_pred = model_P[k+r*N_LAMBDA](x_test.view(BATCH_SIZE,N_INPUTS))\n",
    "                loss = criterion(y_test_pred.view(BATCH_SIZE,N_OUTPUTS),y_test_tar)\n",
    "                running_test_loss+=loss.item()\n",
    "                running_test_acc+=get_accuracy(y_test_pred.view(BATCH_SIZE,N_OUTPUTS), y_test_tar)\n",
    "                \n",
    "            train_loss_P[epoch,k,r] = running_train_loss/len(trainloader)\n",
    "            train_acc_P[epoch,k,r] = running_train_acc/len(trainloader)\n",
    "            test_loss_P[epoch,k,r] = running_test_loss/len(testloader)\n",
    "            test_acc_P[epoch,k,r] = running_test_acc/len(testloader)\n",
    "            \n",
    "        # save the model and free the memory  \n",
    "        torch.save(model_P[k+r*N_LAMBDA].state_dict(), model_path)\n",
    "        model_P[k+r*N_LAMBDA] = [None]\n",
    "        del(l2_reg,loss,optimizer,criterion,plist,param)"
   ]
  },
  {
   "cell_type": "code",
   "execution_count": null,
   "metadata": {},
   "outputs": [],
   "source": []
  }
 ],
 "metadata": {
  "colab": {
   "collapsed_sections": [],
   "name": "MLP_hamlet",
   "provenance": [],
   "version": "0.3.2"
  },
  "kernelspec": {
   "display_name": "Python 3",
   "language": "python",
   "name": "python3"
  },
  "language_info": {
   "codemirror_mode": {
    "name": "ipython",
    "version": 3
   },
   "file_extension": ".py",
   "mimetype": "text/x-python",
   "name": "python",
   "nbconvert_exporter": "python",
   "pygments_lexer": "ipython3",
   "version": "3.6.8"
  }
 },
 "nbformat": 4,
 "nbformat_minor": 1
}
