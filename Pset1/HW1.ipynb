{
 "cells": [
  {
   "cell_type": "code",
   "execution_count": 15,
   "metadata": {},
   "outputs": [],
   "source": [
    "import numpy as np\n",
    "from hw1_utils import load_images, load_labels\n",
    "import matplotlib.pyplot as plt\n",
    "%matplotlib inline  \n",
    "\n",
    "train_X = load_images()\n",
    "train_y = load_labels()"
   ]
  },
  {
   "cell_type": "markdown",
   "metadata": {},
   "source": [
    "a) see the code below"
   ]
  },
  {
   "cell_type": "code",
   "execution_count": 5,
   "metadata": {},
   "outputs": [
    {
     "data": {
      "image/png": "[encoded data removed]",
      "text/plain": [
       "<matplotlib.figure.Figure at 0x27233970f28>"
      ]
     },
     "metadata": {},
     "output_type": "display_data"
    }
   ],
   "source": [
    "# we take out all the Xs that corresponded to a 1 or 6\n",
    "X = train_X[(train_y==1)|(train_y==6),]\n",
    "# we set 1 to be class 1 and 6 to be class 0\n",
    "y = train_y[(train_y==1)|(train_y==6)]==1\n",
    "\n",
    "n = 0;\n",
    "cnt = np.zeros((2,1))\n",
    "fig = plt.figure(figsize=(9,6))\n",
    "# plot three of each sample digit\n",
    "while sum(cnt)<6:\n",
    "    if y[n] and cnt[0]<3:\n",
    "        cnt[0]+=1\n",
    "        plt.subplot(2,3,cnt[0])\n",
    "        plt.imshow(np.reshape(X[n,:],[28,28]))\n",
    "        plt.set_cmap('gray')\n",
    "        plt.axis('off')\n",
    "    elif ~y[n] and cnt[1]<3:\n",
    "        cnt[1]+=1\n",
    "        plt.subplot(2,3,3+cnt[1])\n",
    "        plt.imshow(np.reshape(X[n,:],[28,28]))\n",
    "        plt.set_cmap('gray')\n",
    "        plt.axis('off')\n",
    "    n+=1"
   ]
  },
  {
   "cell_type": "markdown",
   "metadata": {},
   "source": [
    "b) A hyperplane over the pixel space allows us to create halfsapces containing images of the two difference classes, which effectively allows for the classification of the digits"
   ]
  },
  {
   "cell_type": "code",
   "execution_count": 8,
   "metadata": {},
   "outputs": [
    {
     "data": {
      "image/png": "[encoded data removed]",
      "text/plain": [
       "<matplotlib.figure.Figure at 0x27237076898>"
      ]
     },
     "metadata": {},
     "output_type": "display_data"
    },
    {
     "name": "stdout",
     "output_type": "stream",
     "text": [
      "12660\n"
     ]
    }
   ],
   "source": [
    "nx = np.size(X,1)+1\n",
    "ny = np.size(X,0)\n",
    "X0 = np.hstack((X,-np.ones((ny,1))))\n",
    "X0[~y,] = -X0[~y,]\n",
    "w = np.zeros((nx))\n",
    "y_est = np.squeeze(np.matmul(X0,w))>0\n",
    "lpcnt = 0\n",
    "err = sum(~y_est)/ny\n",
    "while sum(y_est)<ny:\n",
    "    lpcnt+=1\n",
    "    i = 0\n",
    "    while i<ny:\n",
    "        y_est[i] = np.matmul(X0[i,],w)>0\n",
    "        if y_est[i]<=0:\n",
    "            w+=X0[i,]/np.linalg.norm(X0[i,])\n",
    "        i+=1\n",
    "    err = np.append(err,sum(~y_est)/ny)\n",
    "\n",
    "# plot the error over each pass through the dataset\n",
    "plt.plot(err)\n",
    "plt.ylabel('Error')\n",
    "plt.xlabel('Iteration')\n",
    "plt.show()\n",
    "print(ny)"
   ]
  },
  {
   "cell_type": "code",
   "execution_count": 7,
   "metadata": {},
   "outputs": [
    {
     "data": {
      "image/png": "[encoded data removed]",
      "text/plain": [
       "<matplotlib.figure.Figure at 0x27237156898>"
      ]
     },
     "metadata": {},
     "output_type": "display_data"
    }
   ],
   "source": [
    "# we visualize the weight learned\n",
    "plt.imshow(np.reshape(w[0:784],[28,28]))\n",
    "plt.axis('off')\n",
    "plt.colorbar\n",
    "plt.show()"
   ]
  },
  {
   "cell_type": "markdown",
   "metadata": {},
   "source": [
    "c) The digits are indeed linearly seperable. Which is somewhat surprising given the simplicity of the decision rule. It is more surprising given we know based on Cover's Theorem that the capacity of the perceptron $\\alpha = P/N = 2$, with $P$ being the number of patterns in general position and $N$ being the number of dimensions. In the MNIST 1-6 classification toy problem we have $N = 785$ and $\\\\P = 12660$, $\\alpha \\approx 16$ ! Which is much larger than two. We measure empirically the dimensionality of the class samples to see how far do we deviate from the general position assumption."
   ]
  },
  {
   "cell_type": "code",
   "execution_count": 37,
   "metadata": {},
   "outputs": [
    {
     "data": {
      "text/plain": [
       "6.375594778205746"
      ]
     },
     "execution_count": 37,
     "metadata": {},
     "output_type": "execute_result"
    }
   ],
   "source": [
    "# number 1\n",
    "Xc = X[y==1,:]\n",
    "Xc = Xc-Xc.mean(axis=0)[np.newaxis,:]\n",
    "XCOV = np.matmul(Xc.T,Xc)\n",
    "eigvals, eigvecs = np.linalg.eig(XCOV)\n",
    "np.real(np.power(np.sum(eigvals),2)/np.sum(np.power(eigvals,2)))"
   ]
  },
  {
   "cell_type": "code",
   "execution_count": 38,
   "metadata": {},
   "outputs": [
    {
     "data": {
      "text/plain": [
       "17.310722837334108"
      ]
     },
     "execution_count": 38,
     "metadata": {},
     "output_type": "execute_result"
    }
   ],
   "source": [
    "# number 6\n",
    "Xc = X[y==0,:]\n",
    "Xc = Xc-Xc.mean(axis=0)[np.newaxis,:]\n",
    "XCOV = np.matmul(Xc.T,Xc)\n",
    "eigvals, eigvecs = np.linalg.eig(XCOV)\n",
    "np.real(np.power(np.sum(eigvals),2)/np.sum(np.power(eigvals,2)))"
   ]
  },
  {
   "cell_type": "markdown",
   "metadata": {},
   "source": [
    "We see that as expected, number 1 has a lower dimension as number 6. Also we observe that the images are highly correlated. Suggesting that in this case, the classical perceptron capacity is a conservative measure."
   ]
  }
 ],
 "metadata": {
  "kernelspec": {
   "display_name": "Python 3",
   "language": "python",
   "name": "python3"
  },
  "language_info": {
   "codemirror_mode": {
    "name": "ipython",
    "version": 3
   },
   "file_extension": ".py",
   "mimetype": "text/x-python",
   "name": "python",
   "nbconvert_exporter": "python",
   "pygments_lexer": "ipython3",
   "version": "3.6.4"
  }
 },
 "nbformat": 4,
 "nbformat_minor": 2
}
