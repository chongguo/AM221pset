{
 "cells": [
  {
   "cell_type": "markdown",
   "metadata": {},
   "source": [
    "## 4. Boosting I: Weak Learners and Decision Stumps"
   ]
  },
  {
   "cell_type": "code",
   "execution_count": 18,
   "metadata": {},
   "outputs": [
    {
     "data": {
      "text/html": [
       "<div>\n",
       "<style scoped>\n",
       "    .dataframe tbody tr th:only-of-type {\n",
       "        vertical-align: middle;\n",
       "    }\n",
       "\n",
       "    .dataframe tbody tr th {\n",
       "        vertical-align: top;\n",
       "    }\n",
       "\n",
       "    .dataframe thead th {\n",
       "        text-align: right;\n",
       "    }\n",
       "</style>\n",
       "<table border=\"1\" class=\"dataframe\">\n",
       "  <thead>\n",
       "    <tr style=\"text-align: right;\">\n",
       "      <th></th>\n",
       "      <th>0</th>\n",
       "      <th>1</th>\n",
       "      <th>2</th>\n",
       "      <th>3</th>\n",
       "      <th>4</th>\n",
       "    </tr>\n",
       "  </thead>\n",
       "  <tbody>\n",
       "    <tr>\n",
       "      <th>0</th>\n",
       "      <td>3.62160</td>\n",
       "      <td>8.6661</td>\n",
       "      <td>-2.8073</td>\n",
       "      <td>-0.44699</td>\n",
       "      <td>0</td>\n",
       "    </tr>\n",
       "    <tr>\n",
       "      <th>1</th>\n",
       "      <td>4.54590</td>\n",
       "      <td>8.1674</td>\n",
       "      <td>-2.4586</td>\n",
       "      <td>-1.46210</td>\n",
       "      <td>0</td>\n",
       "    </tr>\n",
       "    <tr>\n",
       "      <th>2</th>\n",
       "      <td>3.86600</td>\n",
       "      <td>-2.6383</td>\n",
       "      <td>1.9242</td>\n",
       "      <td>0.10645</td>\n",
       "      <td>0</td>\n",
       "    </tr>\n",
       "    <tr>\n",
       "      <th>3</th>\n",
       "      <td>3.45660</td>\n",
       "      <td>9.5228</td>\n",
       "      <td>-4.0112</td>\n",
       "      <td>-3.59440</td>\n",
       "      <td>0</td>\n",
       "    </tr>\n",
       "    <tr>\n",
       "      <th>4</th>\n",
       "      <td>0.32924</td>\n",
       "      <td>-4.4552</td>\n",
       "      <td>4.5718</td>\n",
       "      <td>-0.98880</td>\n",
       "      <td>0</td>\n",
       "    </tr>\n",
       "  </tbody>\n",
       "</table>\n",
       "</div>"
      ],
      "text/plain": [
       "         0       1       2        3  4\n",
       "0  3.62160  8.6661 -2.8073 -0.44699  0\n",
       "1  4.54590  8.1674 -2.4586 -1.46210  0\n",
       "2  3.86600 -2.6383  1.9242  0.10645  0\n",
       "3  3.45660  9.5228 -4.0112 -3.59440  0\n",
       "4  0.32924 -4.4552  4.5718 -0.98880  0"
      ]
     },
     "execution_count": 18,
     "metadata": {},
     "output_type": "execute_result"
    }
   ],
   "source": [
    "import pandas as pd\n",
    "import numpy as np\n",
    "import matplotlib.pyplot as plt\n",
    "%matplotlib inline\n",
    "\n",
    "# load the banknote data into a pandas dataframe\n",
    "fname = r'banknote.data.txt'\n",
    "bnote = pd.read_csv(fname,header=None)\n",
    "# peak at the first five rows\n",
    "bnote.head()"
   ]
  },
  {
   "cell_type": "markdown",
   "metadata": {},
   "source": [
    "## d) \n",
    "We use a vary naive way to find the best decision stump, which is to loop over every value in the $j^{th}$ column of the banknote data and check for both $S^+_j$ and $S^-_j$ until we find the optimal threshold and direction"
   ]
  },
  {
   "cell_type": "code",
   "execution_count": 19,
   "metadata": {},
   "outputs": [],
   "source": [
    "# the decision stump classifier\n",
    "def stumpclassify(X,dim,sign,thresh):\n",
    "    n = X.shape[0]\n",
    "    f_x = np.zeros(n)\n",
    "    if sign==1:\n",
    "        f_x = (X.iloc[:,dim]>=thresh)\n",
    "    elif sign==-1:\n",
    "        f_x = (X.iloc[:,dim]<thresh)\n",
    "    return f_x"
   ]
  },
  {
   "cell_type": "code",
   "execution_count": 26,
   "metadata": {},
   "outputs": [],
   "source": [
    "# find the best decision stump threshold and sign by looping over all possible values of thresholds and signs\n",
    "def threshfind(X,dim):\n",
    "    y = X.iloc[:,-1]==1\n",
    "    P_best = 0\n",
    "    thresh = np.zeros(0)\n",
    "    sign = np.zeros(0)\n",
    "    for s in [1,-1]:\n",
    "        for t in X.iloc[:,dim]:\n",
    "            P_curr = np.mean(stumpclassify(X,dim,s,t)==y)\n",
    "            if P_curr>=P_best:\n",
    "                P_best = P_curr\n",
    "                thresh = t\n",
    "                sign = s\n",
    "    return thresh,sign,P_best"
   ]
  },
  {
   "cell_type": "code",
   "execution_count": 27,
   "metadata": {},
   "outputs": [
    {
     "name": "stdout",
     "output_type": "stream",
     "text": [
      "thresh sign P(correct)\n",
      "0.3223 -1.0 0.8535\n",
      "5.1815 -1.0 0.7055\n",
      "8.6521 1.0 0.6268\n",
      "-5.8638 -1.0 0.5627\n"
     ]
    }
   ],
   "source": [
    "# find and display the decision stumps and display them for each of the features \n",
    "thresh = np.zeros(4)\n",
    "sign = np.zeros(4)\n",
    "P_correct = np.zeros(4)\n",
    "print('thresh sign P(correct)')\n",
    "for j in range(4):\n",
    "    thresh[j],sign[j],P_correct[j] = threshfind(bnote,j)\n",
    "    print(thresh[j],sign[j],round(P_correct[j],4))"
   ]
  },
  {
   "cell_type": "markdown",
   "metadata": {},
   "source": [
    "## Problem 5: Boosting II: Aggregating Weak Learners"
   ]
  },
  {
   "cell_type": "code",
   "execution_count": 34,
   "metadata": {},
   "outputs": [
    {
     "name": "stdout",
     "output_type": "stream",
     "text": [
      "p(h)=\n",
      "[0.33 0.33 0.   0.33]\n"
     ]
    }
   ],
   "source": [
    "from cvxopt import matrix, solvers\n",
    "# number of weak learners\n",
    "m = 4\n",
    "n = bnote.shape[0]\n",
    "# letting t = a-b, we change max{t} into -min{-a+b}\n",
    "c = matrix(np.hstack([np.zeros(m),[-1,1]]))\n",
    "# now we build the matrix M\n",
    "M = np.zeros((n,m))\n",
    "for j in range(m):\n",
    "    M[:,j] = np.asarray(stumpclassify(bnote,j,sign[j],thresh[j])==(bnote.iloc[:,-1]==1))*2-1\n",
    "# assemble matrix G as [M|]\n",
    "G = matrix(np.vstack([np.hstack([-M,np.tile([1,-1],(n,1))]),-np.eye(m+2)]))\n",
    "# h\n",
    "h = matrix(np.hstack([np.zeros(n),np.zeros(m+2)]))\n",
    "# A and b specifies the p summing to 1\n",
    "A = matrix([[1.],[1.],[1.],[1.],[0.],[0.]])\n",
    "b = matrix([1.])\n",
    "sol = solvers.lp(c, G, h, A, b,solver=\"glpk\")\n",
    "\n",
    "print('p(h)=')\n",
    "print(np.round(p.squeeze(),2))"
   ]
  },
  {
   "cell_type": "code",
   "execution_count": 35,
   "metadata": {},
   "outputs": [
    {
     "name": "stdout",
     "output_type": "stream",
     "text": [
      "\n",
      "P(err_boosted)\n",
      "0.8994\n"
     ]
    }
   ],
   "source": [
    "# now we build the matrix H and apply the decision rules of boosted classifier\n",
    "H = np.zeros((n,m))\n",
    "for j in range(m):\n",
    "    H[:,j] = np.asarray(stumpclassify(bnote,j,sign[j],thresh[j]))*2-1\n",
    "p = np.asarray(sol['x'][:4])\n",
    "P_correct_boosted = np.mean((np.matmul(H,p)>0).squeeze()==(bnote.iloc[:,-1]==1))\n",
    "\n",
    "print('\\nP(err_boosted)')\n",
    "print(np.round(P_correct_boosted,4))"
   ]
  },
  {
   "cell_type": "markdown",
   "metadata": {},
   "source": [
    "We see the performance indeed inproved with boosting"
   ]
  }
 ],
 "metadata": {
  "kernelspec": {
   "display_name": "Python 3",
   "language": "python",
   "name": "python3"
  },
  "language_info": {
   "codemirror_mode": {
    "name": "ipython",
    "version": 3
   },
   "file_extension": ".py",
   "mimetype": "text/x-python",
   "name": "python",
   "nbconvert_exporter": "python",
   "pygments_lexer": "ipython3",
   "version": "3.6.4"
  }
 },
 "nbformat": 4,
 "nbformat_minor": 2
}
