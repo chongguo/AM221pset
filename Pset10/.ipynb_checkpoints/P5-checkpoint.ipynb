{
 "cells": [
  {
   "cell_type": "code",
   "execution_count": 23,
   "metadata": {},
   "outputs": [
    {
     "data": {
      "text/plain": [
       "(array([ 107., 1684.]), 1820)"
      ]
     },
     "execution_count": 23,
     "metadata": {},
     "output_type": "execute_result"
    }
   ],
   "source": [
    "import pandas as pd\n",
    "import numpy as np\n",
    "from tqdm import trange\n",
    "import matplotlib.pyplot as plt\n",
    "%matplotlib inline \n",
    "\n",
    "data = pd.read_csv('facebook.txt', header = None,delimiter=' ')\n",
    "E = data.values\n",
    "V = np.unique(E)\n",
    "\n",
    "# function for calculating influence\n",
    "def I(E,S):\n",
    "    N_S = S\n",
    "    for s in S:\n",
    "        N_S=np.append(N_S,E[E[:,0]==s,1])\n",
    "    I_S = len(np.unique(N_S))\n",
    "    return I_S\n",
    "\n",
    "# greed algorithm, we added S as an input so we don't repeat caculations below\n",
    "def greedy(E,V,K,S):\n",
    "    k = len(S)\n",
    "    while k < K and I(E,S)<len(V):\n",
    "        I_S_a_opt = 0\n",
    "        a_opt = []\n",
    "        for a in np.setdiff1d(V,S):\n",
    "            I_S_a = I(E,np.append(S,a))-I(E,S)\n",
    "            if I_S_a > I_S_a_opt:\n",
    "                a_opt = a\n",
    "                I_S_a_opt = I_S_a\n",
    "        S = np.append(S,a_opt)\n",
    "        k+=1\n",
    "    return S, I(E,S)\n",
    "\n",
    "# an example of users to seed and total influence for a budge of k=2\n",
    "greedy(E,V,2,np.asarray([]))"
   ]
  },
  {
   "cell_type": "code",
   "execution_count": 28,
   "metadata": {},
   "outputs": [
    {
     "name": "stderr",
     "output_type": "stream",
     "text": [
      "100%|██████████████████████████████████████████████████████████████████████████████████| 15/15 [01:40<00:00,  6.71s/it]\n"
     ]
    }
   ],
   "source": [
    "k_max = 15\n",
    "S = np.asarray([])\n",
    "I_k = np.zeros(k_max)\n",
    "for i in trange(k_max):\n",
    "    S,I_k[i] = greedy(E,V,i,S)"
   ]
  },
  {
   "cell_type": "code",
   "execution_count": 29,
   "metadata": {},
   "outputs": [
    {
     "data": {
      "image/png": "[encoded data removed]",
      "text/plain": [
       "<Figure size 432x288 with 1 Axes>"
      ]
     },
     "metadata": {
      "needs_background": "light"
     },
     "output_type": "display_data"
    }
   ],
   "source": [
    "# plot the influence as a function of K\n",
    "plt.plot(np.arange(1,k_max+1),I_k)\n",
    "plt.ylabel('I(S)')\n",
    "plt.xlabel('K')\n",
    "plt.show()"
   ]
  },
  {
   "cell_type": "code",
   "execution_count": 30,
   "metadata": {},
   "outputs": [
    {
     "data": {
      "text/plain": [
       "array([   0., 1044., 1820., 2569., 3112., 3458., 3666., 3837., 3941.,\n",
       "       4000., 4039., 4039., 4039., 4039., 4039.])"
      ]
     },
     "execution_count": 30,
     "metadata": {},
     "output_type": "execute_result"
    }
   ],
   "source": [
    "I_k"
   ]
  }
 ],
 "metadata": {
  "kernelspec": {
   "display_name": "Python 3",
   "language": "python",
   "name": "python3"
  },
  "language_info": {
   "codemirror_mode": {
    "name": "ipython",
    "version": 3
   },
   "file_extension": ".py",
   "mimetype": "text/x-python",
   "name": "python",
   "nbconvert_exporter": "python",
   "pygments_lexer": "ipython3",
   "version": "3.7.1"
  }
 },
 "nbformat": 4,
 "nbformat_minor": 2
}
